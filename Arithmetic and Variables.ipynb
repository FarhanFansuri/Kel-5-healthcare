{
 "cells": [
  {
   "cell_type": "markdown",
   "metadata": {},
   "source": [
    "# Arithmetic and Variables"
   ]
  },
  {
   "cell_type": "markdown",
   "metadata": {},
   "source": [
    "## Printing"
   ]
  },
  {
   "cell_type": "code",
   "execution_count": 1,
   "metadata": {},
   "outputs": [
    {
     "name": "stdout",
     "output_type": "stream",
     "text": [
      "Hello, world!\n"
     ]
    }
   ],
   "source": [
    "print(\"Hello, world!\")"
   ]
  },
  {
   "cell_type": "markdown",
   "metadata": {},
   "source": [
    "Kode ini adalah contoh sederhana dari bahasa pemrograman Python. Perintah print() digunakan untuk menampilkan pesan ke layar. Dalam kasus ini, pesan yang ditampilkan adalah \"Hello, world!\". Saat Anda menjalankan kode ini, Anda akan melihat output \"Hello, world!\" di layar."
   ]
  },
  {
   "cell_type": "markdown",
   "metadata": {},
   "source": [
    "## Arithmetic"
   ]
  },
  {
   "cell_type": "code",
   "execution_count": 2,
   "metadata": {},
   "outputs": [
    {
     "name": "stdout",
     "output_type": "stream",
     "text": [
      "3\n"
     ]
    }
   ],
   "source": [
    "print(1 + 2)"
   ]
  },
  {
   "cell_type": "markdown",
   "metadata": {},
   "source": [
    "Baris kode ini menggunakan operator penjumlahan dalam bahasa pemrograman Python. Operator + digunakan untuk menambahkan dua nilai bersama-sama. Dalam kasus ini, nilai yang ditambahkan adalah 1 dan 2. Hasil dari operasi tersebut adalah 3.\n",
    "\n",
    "Jadi, saat kode ini dijalankan, hasilnya akan dicetak ke layar, yang merupakan angka 3."
   ]
  },
  {
   "cell_type": "code",
   "execution_count": 3,
   "metadata": {},
   "outputs": [
    {
     "name": "stdout",
     "output_type": "stream",
     "text": [
      "4\n"
     ]
    }
   ],
   "source": [
    "print(9 - 5)"
   ]
  },
  {
   "cell_type": "markdown",
   "metadata": {},
   "source": [
    "Baris kode ini menggunakan operator pengurangan dalam bahasa pemrograman Python. Operator - digunakan untuk mengurangkan satu nilai dari nilai lainnya. Dalam kasus ini, kita mengurangkan 5 dari 9. Hasil dari operasi tersebut adalah 4.\n",
    "\n",
    "Jadi, saat kode ini dijalankan, hasilnya, yaitu angka 4, akan dicetak ke layar."
   ]
  },
  {
   "cell_type": "code",
   "execution_count": 4,
   "metadata": {},
   "outputs": [
    {
     "name": "stdout",
     "output_type": "stream",
     "text": [
      "196.0\n"
     ]
    }
   ],
   "source": [
    "print(((1 + 3) * (9 - 2) / 2) ** 2)"
   ]
  },
  {
   "cell_type": "markdown",
   "metadata": {},
   "source": [
    "Baris kode ini melakukan serangkaian operasi matematika menggunakan ekspresi yang rumit. Mari kita pecah ekspresi tersebut:\n",
    "\n",
    "(1 + 3): Pertama, dilakukan penjumlahan antara 1 dan 3, hasilnya adalah 4.\n",
    "\n",
    "(9 - 2): Kemudian, dilakukan pengurangan antara 9 dan 2, hasilnya adalah 7.\n",
    "\n",
    "((1 + 3) * (9 - 2) / 2): Setelah itu, hasil dari penjumlahan dan pengurangan sebelumnya (yaitu 4 dan 7) dikalikan dan dibagi dengan 2. Hasilnya adalah 14.\n",
    "\n",
    "((1 + 3) * (9 - 2) / 2) ** 2: Setelahnya, hasil dari operasi sebelumnya dipangkatkan dengan pangkat 2. Artinya, hasil sebelumnya yaitu 14 dipangkatkan dengan 2, sehingga hasilnya adalah 196.\n",
    "\n",
    "Jadi, ekspresi ((1 + 3) * (9 - 2) / 2) ** 2 akhirnya akan menghasilkan nilai 196."
   ]
  },
  {
   "cell_type": "markdown",
   "metadata": {},
   "source": [
    "## Comments"
   ]
  },
  {
   "cell_type": "markdown",
   "metadata": {},
   "source": [
    "Komentar adalah bagian dari kode yang kita tulis untuk menjelaskan apa yang dilakukan oleh kode tersebut. Mereka membantu kita dan orang lain memahami tujuan dan logika di balik potongan kode tertentu. Misalnya, jika Anda membuat fungsi atau bagian dari kode yang kompleks, Anda dapat menambahkan komentar untuk menjelaskan bagaimana kode itu bekerja atau mengapa Anda menggunakan pendekatan tertentu."
   ]
  },
  {
   "cell_type": "code",
   "execution_count": 5,
   "metadata": {},
   "outputs": [
    {
     "name": "stdout",
     "output_type": "stream",
     "text": [
      "6\n"
     ]
    }
   ],
   "source": [
    "# Multiply 3 by 2\n",
    "print(3 * 2)"
   ]
  },
  {
   "cell_type": "markdown",
   "metadata": {},
   "source": [
    "Multiply 3 by 2 adalah komentar yang dimaksudkan untuk memberikan penjelasan tentang apa yang dilakukan oleh kode berikutnya. Komentar dimulai dengan tanda pagar (#) dalam Python. Komentar ini menjelaskan bahwa kita akan mengalikan angka 3 dengan 2."
   ]
  },
  {
   "cell_type": "markdown",
   "metadata": {},
   "source": [
    "jika kita menghapus tanda pagar dari sebuah komentar, Python akan menimbulkan kesalahan karena teks di dalam komentar tersebut bukan kode Python yang valid. Python mencoba untuk menafsirkan setiap bagian dari kode sebagai instruksi yang dapat dijalankan, tetapi teks dalam komentar tidak dimaksudkan untuk dieksekusi sebagai kode Python. Oleh karena itu, Python tidak dapat memahami atau menafsirkan teks tersebut jika tanda pagar dihapus."
   ]
  },
  {
   "cell_type": "code",
   "execution_count": 6,
   "metadata": {},
   "outputs": [
    {
     "ename": "SyntaxError",
     "evalue": "invalid syntax (3750420471.py, line 1)",
     "output_type": "error",
     "traceback": [
      "\u001b[1;36m  Cell \u001b[1;32mIn[6], line 1\u001b[1;36m\u001b[0m\n\u001b[1;33m    Multiply 3 by 2\u001b[0m\n\u001b[1;37m             ^\u001b[0m\n\u001b[1;31mSyntaxError\u001b[0m\u001b[1;31m:\u001b[0m invalid syntax\n"
     ]
    }
   ],
   "source": [
    "Multiply 3 by 2"
   ]
  },
  {
   "cell_type": "markdown",
   "metadata": {},
   "source": [
    "## Variables"
   ]
  },
  {
   "cell_type": "markdown",
   "metadata": {},
   "source": [
    "### Creating Variables"
   ]
  },
  {
   "cell_type": "code",
   "execution_count": 7,
   "metadata": {},
   "outputs": [
    {
     "name": "stdout",
     "output_type": "stream",
     "text": [
      "9\n"
     ]
    }
   ],
   "source": [
    "# Create a variable called test_var and give it a value of 4+5\n",
    "test_var = 4 + 5\n",
    "\n",
    "# Print the value of test_var\n",
    "print(test_var)"
   ]
  },
  {
   "cell_type": "markdown",
   "metadata": {},
   "source": [
    "Create a variable called test_var and give it a value of 4+5: Komentar ini menjelaskan bahwa kita akan membuat sebuah variabel yang disebut test_var dan memberikannya nilai hasil penjumlahan dari 4+5.\n",
    "\n",
    "test_var = 4 + 5: Baris kode ini secara aktual membuat variabel bernama test_var dan memberikannya nilai dari hasil penjumlahan 4 + 5, yang akan menjadi 9. Ini adalah contoh penugasan variabel di Python.\n",
    "\n",
    "Print the value of test_var: Komentar ini menjelaskan bahwa kita akan mencetak nilai dari variabel test_var.\n",
    "\n",
    "print(test_var): Baris kode ini adalah perintah print yang mencetak nilai dari variabel test_var. Hasilnya adalah 9, karena itulah nilai yang telah kita berikan ke variabel test_var."
   ]
  },
  {
   "cell_type": "markdown",
   "metadata": {},
   "source": [
    "Pemilihan Nama Variabel: Nama variabel harus singkat dan deskriptif agar mudah dipahami.\n",
    "\n",
    "Persyaratan Nama Variabel:\n",
    "\n",
    "Tidak boleh ada spasi dalam nama variabel.\n",
    "Hanya boleh menggunakan huruf, angka, dan garis bawah.\n",
    "Dimulai dengan huruf atau garis bawah, tidak boleh dengan angka.\n",
    "Membuat Variabel: Gunakan tanda sama dengan (=) untuk menugaskan nilai ke variabel.\n",
    "\n",
    "Melihat Nilai Variabel: Gunakan fungsi print() untuk mencetak nilai variabel.\n",
    "\n",
    "Pemilihan Nama Variabel yang Baik: Praktik konsisten dan pengalaman akan membantu memilih nama variabel yang baik."
   ]
  },
  {
   "cell_type": "markdown",
   "metadata": {},
   "source": [
    "### Manipulating Variables"
   ]
  },
  {
   "cell_type": "code",
   "execution_count": 8,
   "metadata": {},
   "outputs": [
    {
     "name": "stdout",
     "output_type": "stream",
     "text": [
      "3\n",
      "100\n"
     ]
    }
   ],
   "source": [
    "# Set the value of a new variable to 3\n",
    "my_var = 3\n",
    "\n",
    "# Print the value assigned to my_var\n",
    "print(my_var)\n",
    "\n",
    "# Change the value of the variable to 100\n",
    "my_var = 100\n",
    "\n",
    "# Print the new value assigned to my_var\n",
    "print(my_var)"
   ]
  },
  {
   "cell_type": "markdown",
   "metadata": {},
   "source": [
    "Secara umum, ketika Anda mendefinisikan sebuah variabel dalam sebuah sel kode, semua sel kode yang mengikuti juga memiliki akses ke variabel tersebut. Misalnya, disini amenggunakan sel kode berikutnya untuk mengakses nilai dari my_var (dari sel kode di atas) dan test_var (dari sebelumnya dalam tutorial ini)."
   ]
  },
  {
   "cell_type": "code",
   "execution_count": 9,
   "metadata": {},
   "outputs": [
    {
     "name": "stdout",
     "output_type": "stream",
     "text": [
      "100\n",
      "9\n"
     ]
    }
   ],
   "source": [
    "print(my_var)\n",
    "print(test_var)"
   ]
  },
  {
   "cell_type": "markdown",
   "metadata": {},
   "source": [
    "Sel selanjutnya memberi tahu Python untuk meningkatkan nilai saat ini dari my_var sebesar 3.\n",
    "\n",
    "Untuk melakukannya, kita masih perlu menggunakan my_var = seperti sebelumnya. Dan juga seperti sebelumnya, nilai baru yang ingin kita berikan ke variabel berada di sebelah kanan tanda =."
   ]
  },
  {
   "cell_type": "code",
   "execution_count": 10,
   "metadata": {},
   "outputs": [
    {
     "name": "stdout",
     "output_type": "stream",
     "text": [
      "103\n"
     ]
    }
   ],
   "source": [
    "# Increase the value by 3\n",
    "my_var = my_var + 3\n",
    "\n",
    "# Print the value assigned to my_var\n",
    "print(my_var)"
   ]
  },
  {
   "cell_type": "markdown",
   "metadata": {},
   "source": [
    "### Using Multiple Variables"
   ]
  },
  {
   "cell_type": "code",
   "execution_count": 11,
   "metadata": {},
   "outputs": [
    {
     "name": "stdout",
     "output_type": "stream",
     "text": [
      "126144000\n"
     ]
    }
   ],
   "source": [
    "# Create variables\n",
    "num_years = 4\n",
    "days_per_year = 365 \n",
    "hours_per_day = 24\n",
    "mins_per_hour = 60\n",
    "secs_per_min = 60\n",
    "\n",
    "# Calculate number of seconds in four years\n",
    "total_secs = secs_per_min * mins_per_hour * hours_per_day * days_per_year * num_years\n",
    "print(total_secs)"
   ]
  },
  {
   "cell_type": "markdown",
   "metadata": {},
   "source": [
    "Seperti yang dihitung di atas, ada 126.144.000 detik dalam empat tahun.\n",
    "\n",
    "Perlu diperhatikan bahwa memang mungkin untuk melakukan perhitungan ini tanpa menggunakan variabel hanya dengan menggunakan perhitungan langsung seperti 60 * 60 * 24 * 365 * 4, tetapi itu lebih sulit untuk memeriksa apakah perhitungan tanpa variabel memiliki kesalahan, karena kurang mudah dibaca. Ketika kita menggunakan variabel (seperti num_years, days_per_year, dll.), kita dapat lebih baik melacak setiap bagian dari perhitungan dan lebih mudah memeriksa dan memperbaiki kesalahan.\n",
    "\n",
    "Perlu diperhatikan bahwa sangat berguna untuk menggunakan variabel ketika nilai-nilai dari input dapat berubah. Misalnya, katakanlah kita ingin sedikit meningkatkan perkiraan kami dengan memperbarui nilai jumlah hari dalam setahun dari 365 menjadi 365.25, untuk memperhitungkan tahun kabisat. Kemudian kita dapat mengubah nilai yang ditugaskan ke days_per_year tanpa mengubah variabel lainnya dan mengulang perhitungannya."
   ]
  },
  {
   "cell_type": "code",
   "execution_count": 12,
   "metadata": {},
   "outputs": [
    {
     "name": "stdout",
     "output_type": "stream",
     "text": [
      "126230400.0\n"
     ]
    }
   ],
   "source": [
    "# Update to include leap years\n",
    "days_per_year = 365.25\n",
    "\n",
    "# Calculate number of seconds in four years\n",
    "total_secs = secs_per_min * mins_per_hour * hours_per_day * days_per_year * num_years\n",
    "print(total_secs)"
   ]
  },
  {
   "cell_type": "markdown",
   "metadata": {},
   "source": [
    "## Debugging"
   ]
  },
  {
   "cell_type": "code",
   "execution_count": 13,
   "metadata": {},
   "outputs": [
    {
     "ename": "NameError",
     "evalue": "name 'hours_per_dy' is not defined",
     "output_type": "error",
     "traceback": [
      "\u001b[1;31m---------------------------------------------------------------------------\u001b[0m",
      "\u001b[1;31mNameError\u001b[0m                                 Traceback (most recent call last)",
      "Cell \u001b[1;32mIn[13], line 1\u001b[0m\n\u001b[1;32m----> 1\u001b[0m \u001b[38;5;28mprint\u001b[39m(\u001b[43mhours_per_dy\u001b[49m)\n",
      "\u001b[1;31mNameError\u001b[0m: name 'hours_per_dy' is not defined"
     ]
    }
   ],
   "source": [
    "print(hours_per_dy)"
   ]
  },
  {
   "cell_type": "markdown",
   "metadata": {},
   "source": [
    "Ketika Anda melihat pesan kesalahan \"NameError\" seperti ini, itu berarti Python tidak dapat menemukan variabel yang Anda coba gunakan. Biasanya, hal ini terjadi karena kesalahan dalam pengejaan nama variabel tersebut. Jadi, untuk memperbaiki kesalahan ini, Anda perlu memeriksa bagaimana Anda mengeja nama variabelnya dan pastikan ejaannya benar."
   ]
  },
  {
   "cell_type": "code",
   "execution_count": 14,
   "metadata": {},
   "outputs": [
    {
     "name": "stdout",
     "output_type": "stream",
     "text": [
      "24\n"
     ]
    }
   ],
   "source": [
    "print(hours_per_day)"
   ]
  },
  {
   "cell_type": "markdown",
   "metadata": {},
   "source": [
    "Ini akan mencetak jumlah jam dalam sehari ke layar. Jika variabel hours_per_day telah didefinisikan sebelumnya, maka nilai yang dihasilkan akan ditampilkan."
   ]
  }
 ],
 "metadata": {
  "kernelspec": {
   "display_name": "Python 3",
   "language": "python",
   "name": "python3"
  },
  "language_info": {
   "codemirror_mode": {
    "name": "ipython",
    "version": 3
   },
   "file_extension": ".py",
   "mimetype": "text/x-python",
   "name": "python",
   "nbconvert_exporter": "python",
   "pygments_lexer": "ipython3",
   "version": "3.12.2"
  }
 },
 "nbformat": 4,
 "nbformat_minor": 2
}
