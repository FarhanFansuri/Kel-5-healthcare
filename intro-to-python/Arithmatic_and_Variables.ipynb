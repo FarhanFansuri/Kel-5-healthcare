{
 "cells": [
  {
   "cell_type": "markdown",
   "id": "c4d4ca1e-b1c6-4778-a383-e99be8f10ee7",
   "metadata": {},
   "source": [
    "# Arithmetic and Variables"
   ]
  },
  {
   "cell_type": "markdown",
   "id": "c9da6b18-079b-4737-be24-69ecdf60eec1",
   "metadata": {
    "jp-MarkdownHeadingCollapsed": true
   },
   "source": [
    "## Printing"
   ]
  },
  {
   "cell_type": "markdown",
   "id": "c861a3a3-f8f1-4987-b7f4-f4517129035e",
   "metadata": {},
   "source": [
    "Printing dalam bahasa pemrograman Python mengacu pada proses output atau menampilkan hasil dari program ke layar atau ke media cetak. Untuk mencetak atau menampilkan nilai atau teks ke layar dalam Python, Anda dapat menggunakan fungsi print(). Fungsi print() dapat menerima satu atau lebih argumen dan mencetaknya ke layar dalam bentuk teks. \n",
    "\n",
    "Contoh:"
   ]
  },
  {
   "cell_type": "code",
   "execution_count": 2,
   "id": "b8d72511-d067-4d31-b2b3-af78df77c96d",
   "metadata": {},
   "outputs": [
    {
     "name": "stdout",
     "output_type": "stream",
     "text": [
      "Hello, World!\n"
     ]
    }
   ],
   "source": [
    "print(\"Hello, World!\")"
   ]
  },
  {
   "cell_type": "markdown",
   "id": "85a1bb78-f105-45f4-871a-78015590242d",
   "metadata": {},
   "source": [
    "Hasil dari kode di atas adalah mencetak teks \"Hello, World!\" ke layar. \n",
    "\n",
    "Berikut contoh-contoh lain menggunakan fungsi print() dalam Python:"
   ]
  },
  {
   "cell_type": "code",
   "execution_count": 3,
   "id": "1a0fc4d6-c035-4d0d-ae4b-ca62f8e88be3",
   "metadata": {},
   "outputs": [
    {
     "name": "stdout",
     "output_type": "stream",
     "text": [
      "Secret World\n"
     ]
    }
   ],
   "source": [
    "print(\"Secret World\")"
   ]
  },
  {
   "cell_type": "code",
   "execution_count": 14,
   "id": "981153f7-92de-40e3-985f-44f4e36412a8",
   "metadata": {},
   "outputs": [
    {
     "data": {
      "text/plain": [
       "'Secret World'"
      ]
     },
     "execution_count": 14,
     "metadata": {},
     "output_type": "execute_result"
    }
   ],
   "source": [
    "print = (\"Secret World\")\n",
    "print"
   ]
  },
  {
   "cell_type": "code",
   "execution_count": 7,
   "id": "c3506d60-bfdb-4c7f-9b38-cfd8f824a099",
   "metadata": {},
   "outputs": [
    {
     "name": "stdout",
     "output_type": "stream",
     "text": [
      "Nama: Alice\n",
      "Umur: 30\n"
     ]
    }
   ],
   "source": [
    "nama = \"Alice\"\n",
    "umur = 30\n",
    "print(\"Nama:\", nama)\n",
    "print(\"Umur:\", umur)"
   ]
  },
  {
   "cell_type": "markdown",
   "id": "94f91a99-8413-4e9f-adbf-b0d6c42b72b1",
   "metadata": {},
   "source": []
  },
  {
   "cell_type": "markdown",
   "id": "916f7b2b-a627-4dfa-a23d-7c66a9b763ef",
   "metadata": {
    "jp-MarkdownHeadingCollapsed": true
   },
   "source": [
    "## Arithmetic"
   ]
  },
  {
   "cell_type": "markdown",
   "id": "edddae34-8103-45a5-95b4-3e018d7577cb",
   "metadata": {},
   "source": [
    "Arithmetic dalam bahasa pemrograman Python mengacu pada operasi matematika dasar seperti penjumlahan, pengurangan, perkalian, dan pembagian. Python mendukung semua operasi aritmatika dasar ini menggunakan operator khusus seperti + (penjumlahan), - (pengurangan), * (perkalian), dan / (pembagian). \n",
    "\n",
    "Contoh:"
   ]
  },
  {
   "cell_type": "code",
   "execution_count": 2,
   "id": "1a628bff-8e52-47fe-954a-37ab62363cab",
   "metadata": {},
   "outputs": [
    {
     "name": "stdout",
     "output_type": "stream",
     "text": [
      "30\n"
     ]
    }
   ],
   "source": [
    "print(10 + 20)"
   ]
  },
  {
   "cell_type": "markdown",
   "id": "49e4d59b-6ac4-4c92-8078-5fa0c7238039",
   "metadata": {},
   "source": [
    "Maka hasil dari perkalian di atas adalah 30. \n",
    "\n",
    "Berikut contoh-contoh lain menggunakan dari Arithmetic pada Python:"
   ]
  },
  {
   "cell_type": "code",
   "execution_count": 3,
   "id": "0513d4ae-c4f8-4d98-9322-ce7dc70bdc4e",
   "metadata": {},
   "outputs": [
    {
     "name": "stdout",
     "output_type": "stream",
     "text": [
      "260\n"
     ]
    }
   ],
   "source": [
    "print(30 * 2 * 5 - 100 + 60)"
   ]
  },
  {
   "cell_type": "code",
   "execution_count": 4,
   "id": "2bee7f9e-77c2-4793-a725-07cbfedd29c3",
   "metadata": {},
   "outputs": [
    {
     "name": "stdout",
     "output_type": "stream",
     "text": [
      "490.0\n"
     ]
    }
   ],
   "source": [
    "print(200 / 4 * 7 - 10 + 150)"
   ]
  },
  {
   "cell_type": "markdown",
   "id": "46ef3c5d-6e56-4623-97f2-60904e1dba05",
   "metadata": {},
   "source": []
  },
  {
   "cell_type": "markdown",
   "id": "9dd22c26-2378-4367-a821-5c317565a7e9",
   "metadata": {
    "jp-MarkdownHeadingCollapsed": true
   },
   "source": [
    "## Variable"
   ]
  },
  {
   "cell_type": "markdown",
   "id": "3c67f746-9c75-4d16-93fb-6b802e249d8e",
   "metadata": {},
   "source": [
    "Variables dalam Python adalah tempat untuk menyimpan nilai. Variabel memungkinkan Anda menyimpan data dalam program Anda sehingga dapat diakses dan digunakan kembali nanti. Untuk membuat variabel, Anda cukup menetapkan nama variabel tersebut dan nilai yang ingin Anda simpan ke dalamnya menggunakan tanda sama dengan (=). \n",
    "\n",
    "Contoh:"
   ]
  },
  {
   "cell_type": "code",
   "execution_count": 1,
   "id": "ea371033-01f5-4953-ae99-73b709575e3b",
   "metadata": {},
   "outputs": [
    {
     "name": "stdout",
     "output_type": "stream",
     "text": [
      "50\n"
     ]
    }
   ],
   "source": [
    "x = 5\n",
    "y = 10\n",
    "print(x * y)"
   ]
  },
  {
   "cell_type": "markdown",
   "id": "3b0c2fb1-f2ed-4222-863c-83783b87cad1",
   "metadata": {},
   "source": [
    "Mari saya jelaskan langkah-langkahnya:\n",
    "\n",
    "1. Anda mendefinisikan dua variabel `x` dan `y` dengan nilai masing-masing 5 dan 10.\n",
    "2. Anda menggunakan fungsi `print()` untuk mencetak nilai dari variabel `X`dan `y` ke layar.\n",
    "\n",
    "Hasilnya akan mencetak nilai 50, karena hasil perkalian dari `x` dan `y`, yang masing-masing bernilai 5 dan 10. Sehingga 5 * 10 = 50.\n",
    "\n",
    "\n",
    "\n",
    "\n",
    "Berikut contoh-contoh lain menggunakan dari Variable pada Python:"
   ]
  },
  {
   "cell_type": "code",
   "execution_count": 11,
   "id": "b89ef5a6-8476-49fe-a9b8-58c2ca4948e4",
   "metadata": {},
   "outputs": [
    {
     "name": "stdout",
     "output_type": "stream",
     "text": [
      "50 100 1\n"
     ]
    }
   ],
   "source": [
    "a = 50 \n",
    "b = 100\n",
    "c = 1\n",
    "\n",
    "print(a, b, c)"
   ]
  },
  {
   "cell_type": "code",
   "execution_count": 12,
   "id": "c7a81539-7470-42fb-98cd-e06e1e864919",
   "metadata": {},
   "outputs": [
    {
     "name": "stdout",
     "output_type": "stream",
     "text": [
      "4630\n"
     ]
    }
   ],
   "source": [
    "k = 43\n",
    "l = 57\n",
    "m = 109\n",
    "n = k * m - l\n",
    "\n",
    "print(n)"
   ]
  },
  {
   "cell_type": "code",
   "execution_count": null,
   "id": "1d121670-8e63-4896-9251-e0ea19dfc4f8",
   "metadata": {},
   "outputs": [],
   "source": []
  },
  {
   "cell_type": "markdown",
   "id": "8d7142ea-9cf8-46dc-84f6-53ae52479fb4",
   "metadata": {
    "jp-MarkdownHeadingCollapsed": true
   },
   "source": [
    "## Comments"
   ]
  },
  {
   "cell_type": "markdown",
   "id": "f6d13e43-c2ae-4068-afb6-6a3551137717",
   "metadata": {},
   "source": [
    "Dalam Python, komentar digunakan untuk memberikan penjelasan atau dokumentasi pada kode. Komentar tidak dieksekusi oleh interpreter Python dan hanya digunakan sebagai panduan untuk pengembang atau orang lain yang membaca kode.\n",
    "\n",
    "Contoh:"
   ]
  },
  {
   "cell_type": "code",
   "execution_count": 13,
   "id": "029a2649-e400-4b37-b552-b4b8500ef6c5",
   "metadata": {},
   "outputs": [],
   "source": [
    "# Ini adalah baris comments"
   ]
  },
  {
   "cell_type": "markdown",
   "id": "2040e34d-59b3-464c-bf23-1d9236c23e31",
   "metadata": {},
   "source": [
    "Dalam Python, komentar satu baris dimulai dengan tanda pagar (#). Komentar jenis ini digunakan untuk memberikan penjelasan atau dokumentasi singkat mengenai baris kode yang bersangkutan. Komentar tersebut tidak akan dieksekusi oleh interpreter Python dan hanya berfungsi sebagai panduan atau catatan bagi pembaca kode.\n",
    "\n",
    "Berikut contoh-contoh lain penggunaan Comments pada Python:"
   ]
  },
  {
   "cell_type": "code",
   "execution_count": 18,
   "id": "ebd995b6-3baf-4ee2-bd93-89ab3b95489b",
   "metadata": {},
   "outputs": [],
   "source": [
    "# Ini adalah contoh komentar multi-baris dalam Python.\n",
    "# Komentar ini dapat mencakup beberapa baris kode."
   ]
  },
  {
   "cell_type": "code",
   "execution_count": 16,
   "id": "f9097a8e-6e18-448c-8ab1-60eb59d5bd5f",
   "metadata": {},
   "outputs": [],
   "source": [
    "x = 5  # inisialisasi variabel x dengan nilai 5"
   ]
  },
  {
   "cell_type": "code",
   "execution_count": null,
   "id": "b80d5a78-5a90-42c7-b812-eb90638a172a",
   "metadata": {},
   "outputs": [],
   "source": []
  },
  {
   "cell_type": "markdown",
   "id": "7f10e21f-87fc-4cde-b4f1-4ab742e614c3",
   "metadata": {
    "jp-MarkdownHeadingCollapsed": true
   },
   "source": [
    "### Creating Variable"
   ]
  },
  {
   "cell_type": "markdown",
   "id": "3513c579-8390-4bd2-ade3-600f8873ec92",
   "metadata": {},
   "source": [
    "Kode selanjutnya membuat sebuah variabel.\n",
    "\n",
    "Contoh:"
   ]
  },
  {
   "cell_type": "code",
   "execution_count": 21,
   "id": "95e89b8e-8f38-42e8-9a90-e351df1cc6a4",
   "metadata": {},
   "outputs": [
    {
     "name": "stdout",
     "output_type": "stream",
     "text": [
      "105\n"
     ]
    }
   ],
   "source": [
    "# creat variable called multiply_test and give it a value of 15*7\n",
    "multiply_test = 15 * 7\n",
    "\n",
    "# print the value of multiply_test\n",
    "print(multiply_test)"
   ]
  },
  {
   "cell_type": "markdown",
   "id": "878e891d-d8dd-4b3c-ac50-5bca818e9156",
   "metadata": {},
   "source": [
    "Kode tersebut terdiri dari dua baris. \n",
    "\n",
    "1. Pada baris pertama, kita membuat sebuah variabel yang dinamai `multiply_test` dan memberikannya nilai dengan melakukan operasi perkalian antara 15   dan 7 (`15 * 7`). Hasil dari operasi tersebut, yaitu 105, akan disimpan di dalam variabel `multiply_test`.\n",
    "   \n",
    "2. Pada baris kedua, kita mencetak nilai yang disimpan di dalam variabel `multiply_test` dengan menggunakan fungsi `print()`. Ini akan menampilkan nilai 105 di layar. \n",
    "\n",
    "Jadi, dengan menjalankan kedua baris kode ini, kita akan mendapatkan output yang menampilkan nilai 105.\n",
    "\n",
    "\n",
    "Berikut contoh-contoh lain penggunaan Create Variable pada Python:"
   ]
  },
  {
   "cell_type": "code",
   "execution_count": 25,
   "id": "5b2e976b-f605-47f6-b2f9-f199896ded95",
   "metadata": {},
   "outputs": [
    {
     "name": "stdout",
     "output_type": "stream",
     "text": [
      "10\n"
     ]
    }
   ],
   "source": [
    "# create variable called subtraction_test and give it a value 100-90\n",
    "subtraction_test = 100 - 90\n",
    "\n",
    "# print the value of subtraction_test\n",
    "print(subtraction_test)"
   ]
  },
  {
   "cell_type": "code",
   "execution_count": 26,
   "id": "27b3fd6d-fc8c-4bae-a9dc-ed64c7afe79d",
   "metadata": {},
   "outputs": [
    {
     "name": "stdout",
     "output_type": "stream",
     "text": [
      "80.0\n"
     ]
    }
   ],
   "source": [
    "# buatlah angka yang bernama tes_angka dan berikan nilai padanya 1000*4/50\n",
    "tes_angka = 1000 * 4 / 50\n",
    "\n",
    "# cetaklah nilai dari tes_angka\n",
    "print(tes_angka)"
   ]
  },
  {
   "cell_type": "code",
   "execution_count": null,
   "id": "01ffb498-f934-4e46-9c6b-495b01325236",
   "metadata": {},
   "outputs": [],
   "source": []
  },
  {
   "cell_type": "markdown",
   "id": "4b61d04f-aac4-406e-91e0-39bced9a58fe",
   "metadata": {
    "jp-MarkdownHeadingCollapsed": true
   },
   "source": [
    "### Manipulating Variable"
   ]
  },
  {
   "cell_type": "markdown",
   "id": "cc7bed13-94a3-434c-8253-c2b4f7275754",
   "metadata": {},
   "source": [
    "Manipulasi variabel dalam Python merujuk pada proses mengubah nilai variabel atau melakukan operasi matematika, logika, atau manipulasi data lainnya menggunakan variabel sebagai wadah atau penyimpanan.\n",
    "\n",
    "Contoh:"
   ]
  },
  {
   "cell_type": "code",
   "execution_count": 29,
   "id": "98642415-3ef9-41a7-8366-9f4e3f45b427",
   "metadata": {},
   "outputs": [
    {
     "name": "stdout",
     "output_type": "stream",
     "text": [
      "59\n",
      "10\n"
     ]
    }
   ],
   "source": [
    "# set the value of a new variable to 59\n",
    "my_var = 59\n",
    "\n",
    "# print the value assigned to my_var\n",
    "print(my_var)\n",
    "\n",
    "# change the new value of the variable to 10\n",
    "my_var = 10\n",
    "\n",
    "# print the new value assigned to my_var\n",
    "print(my_var)"
   ]
  },
  {
   "cell_type": "markdown",
   "id": "f82f197f-3dd3-47d1-9b8c-ee9118135705",
   "metadata": {},
   "source": [
    "Pada kode di atas, terdapat serangkaian operasi yang dilakukan terhadap variabel `my_var`. \n",
    "\n",
    "1. Pertama, sebuah variabel baru `my_var` diberi nilai 59 dengan pernyataan `my_var = 59`.\n",
    "2. Nilai yang ditetapkan ke `my_var` dicetak menggunakan pernyataan `print(my_var)`, sehingga outputnya adalah 59.\n",
    "3. Kemudian, nilai variabel `my_var` diubah menjadi 10 dengan pernyataan `my_var = 10`.\n",
    "4. Nilai baru yang ditetapkan ke `my_var` dicetak lagi dengan menggunakan pernyataan `print(my_var)`, sehingga outputnya berubah menjadi 10.\n",
    "\n",
    "Jadi, secara singkat, kode tersebut menunjukkan bagaimana nilai variabel `my_var` bisa diatur, dicetak, dan kemudian diubah nilainya.\n",
    "\n",
    "Berikut contoh-contoh lain penggunaan Manipulating Variable pada Python:"
   ]
  },
  {
   "cell_type": "code",
   "execution_count": 30,
   "id": "abd04589-462a-446e-b1ee-db198bec8c7e",
   "metadata": {},
   "outputs": [
    {
     "name": "stdout",
     "output_type": "stream",
     "text": [
      "99\n",
      "39\n"
     ]
    }
   ],
   "source": [
    "# atur nilai dari sebuah variabel baru menjadi 99\n",
    "angka_baru = 99\n",
    "\n",
    "# cetak nilai yang ditetapkan untuk angka_baru\n",
    "print(angka_baru)\n",
    "\n",
    "# ubah variabel baru menjadi 39\n",
    "angka_baru = 39\n",
    "\n",
    "# cetak nilai baru yang ditetapkan untuk angka_baru\n",
    "print(angka_baru)"
   ]
  },
  {
   "cell_type": "code",
   "execution_count": 32,
   "id": "363ed627-8e4d-4e62-b059-f35307f83238",
   "metadata": {},
   "outputs": [
    {
     "name": "stdout",
     "output_type": "stream",
     "text": [
      "19\n",
      "45\n"
     ]
    }
   ],
   "source": [
    "# atur nilai s_s menjadi 19\n",
    "s_s = 19\n",
    "\n",
    "# cetak nilai s_s\n",
    "print(s_s)\n",
    "\n",
    "# ubah nilai s_s menjadi 45\n",
    "s_s = 45\n",
    "\n",
    "# cetak nilai s_s yang baru\n",
    "print(s_s)"
   ]
  },
  {
   "cell_type": "code",
   "execution_count": 33,
   "id": "d368b9a6-8536-48ac-974e-b8b2eef0e050",
   "metadata": {},
   "outputs": [
    {
     "name": "stdout",
     "output_type": "stream",
     "text": [
      "39\n",
      "45\n"
     ]
    }
   ],
   "source": [
    "# cetak angka_baru dan s_s\n",
    "print(angka_baru)\n",
    "print(s_s)"
   ]
  },
  {
   "cell_type": "code",
   "execution_count": 34,
   "id": "46093009-fcd6-452c-8bb3-239182b190e2",
   "metadata": {},
   "outputs": [
    {
     "name": "stdout",
     "output_type": "stream",
     "text": [
      "195\n"
     ]
    }
   ],
   "source": [
    "# kalikan angka-baru dengan 5\n",
    "angka_baru = angka_baru * 5\n",
    "\n",
    "# cetaklah angka_baru\n",
    "print(angka_baru)"
   ]
  },
  {
   "cell_type": "code",
   "execution_count": null,
   "id": "06999efd-5408-4135-89f2-0b96e43de509",
   "metadata": {},
   "outputs": [],
   "source": []
  },
  {
   "cell_type": "markdown",
   "id": "830837b3-28a4-4d69-8226-f198e301cdb0",
   "metadata": {
    "jp-MarkdownHeadingCollapsed": true
   },
   "source": [
    "### Using Multiple Variables"
   ]
  },
  {
   "cell_type": "markdown",
   "id": "af9ec33e-089e-4df0-a42e-a314c2eed3e0",
   "metadata": {},
   "source": [
    "Seringkali dalam kode digunakan beberapa variabel. Ini sangat berguna terutama ketika kita harus melakukan perhitungan panjang dengan beberapa masukan.\n",
    "\n",
    "Contoh:"
   ]
  },
  {
   "cell_type": "code",
   "execution_count": 38,
   "id": "9106a80f-c6ad-41d7-b76d-c699574992db",
   "metadata": {},
   "outputs": [
    {
     "name": "stdout",
     "output_type": "stream",
     "text": [
      "378432000\n"
     ]
    }
   ],
   "source": [
    "# buat variabel\n",
    "angka_tahun = 12\n",
    "hari_per_tahun = 365\n",
    "jam_per_hari = 24\n",
    "menit_per_jam = 60\n",
    "detik_per_menit = 60\n",
    "\n",
    "# jumlah detik dari 12 tahun\n",
    "total_detik = detik_per_menit * menit_per_jam * jam_per_hari * hari_per_tahun * angka_tahun\n",
    "\n",
    "print(total_detik)"
   ]
  },
  {
   "cell_type": "markdown",
   "id": "59dc56c0-aa4b-4f9c-959d-1aa375bc86a0",
   "metadata": {},
   "source": [
    "Kode di atas bertujuan untuk menghitung jumlah detik dari 12 tahun. Prosesnya adalah sebagai berikut:\n",
    "\n",
    "1. Variabel `angka_tahun` diberi nilai 12.\n",
    "2. Variabel `hari_per_tahun` diberi nilai 365.\n",
    "3. Variabel `jam_per_hari` diberi nilai 24.\n",
    "4. Variabel `menit_per_jam` diberi nilai 60.\n",
    "5. Variabel `detik_per_menit` diberi nilai 60.\n",
    "6. Kemudian, total detik dihitung dengan mengalikan semua komponen waktu, yaitu detik per menit, menit per jam, jam per hari, hari per tahun, dan angka tahun.\n",
    "7. Hasilnya dicetak menggunakan pernyataan `print()`.\n",
    "\n",
    "Jadi, kode tersebut menghasilkan jumlah detik dari 12 tahun dengan mengalikan semua konversi waktu yang diberikan.\n",
    "\n",
    "\n",
    "Perlu dicatat bahwa penggunaan variabel sangat berguna ketika nilai dari masukan dapat berubah. Misalnya, katakanlah kita ingin sedikit meningkatkan perkiraan kita dengan memperbarui nilai jumlah hari dalam setahun dari 365 menjadi 365,25, untuk memperhitungkan tahun kabisat. Kemudian kita dapat mengubah nilai yang ditetapkan ke `hari_per_tahun` tanpa mengubah variabel lainnya dan melakukan perhitungan ulang.\n",
    "\n",
    "Contoh:"
   ]
  },
  {
   "cell_type": "code",
   "execution_count": 41,
   "id": "50f18ffc-7540-42cc-8642-b850b4d6791e",
   "metadata": {},
   "outputs": [
    {
     "name": "stdout",
     "output_type": "stream",
     "text": [
      "378691200.0\n"
     ]
    }
   ],
   "source": [
    "# pembaruan untuk menyertakan tahun kabisat\n",
    "hari_per_tahun = 365.25\n",
    "\n",
    "# jumlah detik dari 12 tahun\n",
    "total_detik = detik_per_menit * menit_per_jam * jam_per_hari * hari_per_tahun * angka_tahun\n",
    "\n",
    "print(total_detik)"
   ]
  },
  {
   "cell_type": "markdown",
   "id": "fa85a3fd-96ff-4ba5-9578-6e577ccdcef8",
   "metadata": {
    "jp-MarkdownHeadingCollapsed": true
   },
   "source": [
    "### Debugging"
   ]
  },
  {
   "cell_type": "markdown",
   "id": "a1aed6f1-153c-46aa-8c5f-30386ec6e290",
   "metadata": {},
   "source": [
    "Salah satu kesalahan umum saat bekerja dengan variabel adalah secara tidak sengaja membuat kesalahan ketik.\n",
    "\n",
    "Contoh:"
   ]
  },
  {
   "cell_type": "code",
   "execution_count": 45,
   "id": "b94d617b-6eba-49e0-9d31-9891f54b12c3",
   "metadata": {},
   "outputs": [
    {
     "ename": "NameError",
     "evalue": "name 'total_dtk' is not defined",
     "output_type": "error",
     "traceback": [
      "\u001b[1;31m---------------------------------------------------------------------------\u001b[0m",
      "\u001b[1;31mNameError\u001b[0m                                 Traceback (most recent call last)",
      "Cell \u001b[1;32mIn[45], line 1\u001b[0m\n\u001b[1;32m----> 1\u001b[0m \u001b[38;5;28mprint\u001b[39m(\u001b[43mtotal_dtk\u001b[49m)\n",
      "\u001b[1;31mNameError\u001b[0m: name 'total_dtk' is not defined"
     ]
    }
   ],
   "source": [
    "print(total_dtk)"
   ]
  },
  {
   "cell_type": "markdown",
   "id": "54b276f5-86e6-40ea-8f07-a7baf6caf872",
   "metadata": {},
   "source": [
    "Ketika Anda melihat NameError seperti ini, itu menunjukkan bahwa Anda harus memeriksa bagaimana Anda mengeja variabel yang dirujuknya sebagai \"tidak didefinisikan\". Kemudian, untuk memperbaiki kesalahan, Anda hanya perlu memperbaiki pengejaan.\n",
    "\n",
    "Contoh:"
   ]
  },
  {
   "cell_type": "code",
   "execution_count": 46,
   "id": "c16e9fb6-7284-42c7-b46e-dbdbba719f07",
   "metadata": {},
   "outputs": [
    {
     "name": "stdout",
     "output_type": "stream",
     "text": [
      "378691200.0\n"
     ]
    }
   ],
   "source": [
    "print(total_detik)"
   ]
  }
 ],
 "metadata": {
  "kernelspec": {
   "display_name": "Python 3 (ipykernel)",
   "language": "python",
   "name": "python3"
  },
  "language_info": {
   "codemirror_mode": {
    "name": "ipython",
    "version": 3
   },
   "file_extension": ".py",
   "mimetype": "text/x-python",
   "name": "python",
   "nbconvert_exporter": "python",
   "pygments_lexer": "ipython3",
   "version": "3.11.8"
  }
 },
 "nbformat": 4,
 "nbformat_minor": 5
}
