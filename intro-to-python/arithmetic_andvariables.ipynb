{
 "cells": [
  {
   "cell_type": "markdown",
   "metadata": {},
   "source": [
    "# Arithmetic and Variables"
   ]
  },
  {
   "cell_type": "markdown",
   "metadata": {},
   "source": [
    "Make calculations, and define and modify variables.\n"
   ]
  },
  {
   "cell_type": "markdown",
   "metadata": {},
   "source": [
    "## Printing"
   ]
  },
  {
   "cell_type": "code",
   "execution_count": 1,
   "metadata": {},
   "outputs": [
    {
     "name": "stdout",
     "output_type": "stream",
     "text": [
      "Hello, world!\n"
     ]
    }
   ],
   "source": [
    "print(\"Hello, world!\")"
   ]
  },
  {
   "cell_type": "markdown",
   "metadata": {},
   "source": [
    "Kode di atas adalah contoh sederhana dari sebuah program Python yang mencetak teks \"Hello, world!\" ke layar. Dalam bahasa pemrograman, ini sering kali merupakan contoh pertama yang diajarkan kepada pemula. Ini adalah cara sederhana untuk memastikan bahwa instalasi Python Anda berfungsi dengan baik dan Anda dapat mulai menulis kode.\n",
    "\n",
    "Fungsi print() adalah fungsi bawaan Python yang digunakan untuk mencetak output ke terminal atau konsol. Di dalam tanda kurung, Anda bisa menuliskan apa pun yang ingin Anda cetak. Dalam contoh ini, kita mencetak string \"Hello, world!\". String tersebut dibungkus dalam tanda kutip ganda (\"), yang menandakan bahwa itu adalah teks yang harus dicetak. Jadi, ketika program dijalankan, teks \"Hello, world!\" akan ditampilkan di layar."
   ]
  }
 ],
 "metadata": {
  "kernelspec": {
   "display_name": "Python 3",
   "language": "python",
   "name": "python3"
  },
  "language_info": {
   "codemirror_mode": {
    "name": "ipython",
    "version": 3
   },
   "file_extension": ".py",
   "mimetype": "text/x-python",
   "name": "python",
   "nbconvert_exporter": "python",
   "pygments_lexer": "ipython3",
   "version": "3.12.2"
  }
 },
 "nbformat": 4,
 "nbformat_minor": 2
}
