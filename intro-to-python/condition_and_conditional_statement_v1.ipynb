{
  "nbformat": 4,
  "nbformat_minor": 0,
  "metadata": {
    "colab": {
      "provenance": [],
      "authorship_tag": "ABX9TyPnzO/vfyrRo2sHGWxNgjtd",
      "include_colab_link": true
    },
    "kernelspec": {
      "name": "python3",
      "display_name": "Python 3"
    },
    "language_info": {
      "name": "python"
    }
  },
  "cells": [
    {
      "cell_type": "markdown",
      "metadata": {
        "id": "view-in-github",
        "colab_type": "text"
      },
      "source": [
        "<a href=\"https://colab.research.google.com/github/FarhanFansuri/Kel-5-healthcare/blob/main/intro-to-python/condition_and_conditional_statement_v1.ipynb\" target=\"_parent\"><img src=\"https://colab.research.google.com/assets/colab-badge.svg\" alt=\"Open In Colab\"/></a>"
      ]
    },
    {
      "cell_type": "markdown",
      "source": [
        "# 1. Pernyataan If\n",
        "Pernyataan if digunakan untuk mengevaluasi ekspresi dan melakukan tindakan berdasarkan hasil evaluasi tersebut."
      ],
      "metadata": {
        "id": "pWroQWSfSmWl"
      }
    },
    {
      "cell_type": "code",
      "execution_count": null,
      "metadata": {
        "id": "SW0JMcDmSbdG"
      },
      "outputs": [],
      "source": [
        "x = 10\n",
        "\n",
        "if x > 5:\n",
        "    print(\"Nilai x lebih besar dari 5\")"
      ]
    },
    {
      "cell_type": "markdown",
      "source": [
        "# 2. Pernyataan If-else\n",
        "Pernyataan if-else digunakan untuk mengevaluasi ekspresi dan melakukan tindakan berdasarkan hasil evaluasi. Jika kondisi tidak terpenuhi, maka tindakan alternatif dilakukan."
      ],
      "metadata": {
        "id": "UONLNxJNStNj"
      }
    },
    {
      "cell_type": "code",
      "source": [
        "x = 3\n",
        "\n",
        "if x > 5:\n",
        "    print(\"Nilai x lebih besar dari 5\")\n",
        "else:\n",
        "    print(\"Nilai x tidak lebih besar dari 5\")\n"
      ],
      "metadata": {
        "id": "d9yapB9NSw4H"
      },
      "execution_count": null,
      "outputs": []
    },
    {
      "cell_type": "markdown",
      "source": [
        "# 3. Pernyataan If-elif-else\n",
        "Pernyataan if-elif-else digunakan untuk mengevaluasi beberapa kondisi secara berurutan. Hanya satu blok pernyataan yang akan dieksekusi, yaitu blok yang sesuai dengan kondisi yang pertama kali terpenuhi.\n",
        "\n"
      ],
      "metadata": {
        "id": "H7jBrgDJSz1x"
      }
    },
    {
      "cell_type": "code",
      "source": [
        "x = 5\n",
        "\n",
        "if x > 10:\n",
        "    print(\"Nilai x lebih besar dari 10\")\n",
        "elif x > 5:\n",
        "    print(\"Nilai x lebih besar dari 5 tetapi tidak lebih besar dari 10\")\n",
        "else:\n",
        "    print(\"Nilai x tidak lebih besar dari atau sama dengan 5\")\n"
      ],
      "metadata": {
        "id": "n3y_UEWkS5ZD"
      },
      "execution_count": null,
      "outputs": []
    },
    {
      "cell_type": "markdown",
      "source": [
        "# 4. Pernyataan Bersarang (Nested If)\n",
        "Anda dapat menggunakan pernyataan if bersarang untuk mengevaluasi kondisi di dalam kondisi lainnya."
      ],
      "metadata": {
        "id": "R4EGDjQqS-tB"
      }
    },
    {
      "cell_type": "code",
      "source": [
        "x = 5\n",
        "y = 10\n",
        "\n",
        "if x > 0:\n",
        "    if y > 0:\n",
        "        print(\"x dan y positif\")\n",
        "    else:\n",
        "        print(\"x positif, tetapi y tidak positif\")\n",
        "else:\n",
        "    print(\"x tidak positif\")\n"
      ],
      "metadata": {
        "id": "uFA7oLahTCkY"
      },
      "execution_count": null,
      "outputs": []
    },
    {
      "cell_type": "markdown",
      "source": [
        "# 5. Ternary operator\n",
        "Ternary operator atau kadang disebut juga conditional expression adalah cara singkat untuk menulis pernyataan kondisional dalam satu baris kode."
      ],
      "metadata": {
        "id": "PThc---cVPZL"
      }
    },
    {
      "cell_type": "code",
      "source": [
        "x = 5\n",
        "\n",
        "# Menggunakan ternary operator untuk menentukan nilai variabel y\n",
        "y = \"Genap\" if x % 2 == 0 else \"Ganjil\"\n",
        "\n",
        "print(y)  # Output: Ganjil"
      ],
      "metadata": {
        "id": "VvM-CJcSVSeA"
      },
      "execution_count": null,
      "outputs": []
    }
  ]
}