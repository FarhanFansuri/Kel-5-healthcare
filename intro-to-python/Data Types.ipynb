{
 "cells": [
  {
   "cell_type": "markdown",
   "metadata": {},
   "source": [
    "# Data Types"
   ]
  },
  {
   "cell_type": "markdown",
   "metadata": {},
   "source": [
    "### Introduction"
   ]
  },
  {
   "cell_type": "markdown",
   "metadata": {},
   "source": [
    "Ketika membuat variabel di Python, variabel tersebut memiliki nilai dengan tipe data yang sesuai. Ada banyak jenis tipe data, seperti integer, float, boolean, dan string, yang semuanya akan kita bahas dalam pelajaran ini. (Ini hanya merupakan sebagian kecil dari tipe data yang tersedia - ada juga dictionary, set, list, tuple, dan masih banyak lagi.)\n",
    "\n",
    "Tipe data penting, karena mereka menentukan jenis tindakan apa yang dapat Anda lakukan dengan mereka. Misalnya, Anda dapat membagi dua nilai float, tetapi Anda tidak bisa membagi dua string. Misalnya, 12.0/2.0 masuk akal, tetapi \"cat\"/\"dog\" tidak.\n",
    "\n",
    "Untuk menghindari kesalahan, kita perlu memastikan bahwa tindakan yang kita lakukan sesuai dengan tipe data yang kita miliki."
   ]
  },
  {
   "cell_type": "markdown",
   "metadata": {},
   "source": [
    "### Integers"
   ]
  },
  {
   "cell_type": "markdown",
   "metadata": {},
   "source": [
    "Integer adalah jenis data dalam Python yang merepresentasikan bilangan bulat tanpa bagian pecahan, yang dapat berupa bilangan positif (1, 2, 3, ...), bilangan negatif (-1, -2, -3, ...), atau nol (0).\n",
    "\n",
    "Pada sel kode di bawah ini, kita menetapkan sebuah variabel x dengan sebuah bilangan bulat. Selanjutnya, kita memverifikasi tipe data dari variabel tersebut menggunakan fungsi type(), yang hanya memerlukan nama variabel yang ingin kita periksa dimasukkan ke dalam tanda kurung. Ini membantu kita memastikan bahwa variabel x secara benar memiliki tipe data integer."
   ]
  },
  {
   "cell_type": "code",
   "execution_count": 1,
   "metadata": {},
   "outputs": [
    {
     "name": "stdout",
     "output_type": "stream",
     "text": [
      "14\n",
      "<class 'int'>\n"
     ]
    }
   ],
   "source": [
    "x = 14\n",
    "print(x)\n",
    "print(type(x))"
   ]
  },
  {
   "cell_type": "markdown",
   "metadata": {},
   "source": [
    "Pada output di atas, <class 'int'> mengacu pada tipe data integer. Ini adalah representasi Python yang menunjukkan bahwa variabel tersebut adalah tipe data integer. Dalam konteks ini, 'int' singkatan dari 'integer'. Jadi, ketika Anda melihat <class 'int'>, itu berarti variabel tersebut adalah sebuah bilangan bulat dalam Python."
   ]
  },
  {
   "cell_type": "markdown",
   "metadata": {},
   "source": [
    "### Floats"
   ]
  },
  {
   "cell_type": "markdown",
   "metadata": {},
   "source": [
    "Floats adalah tipe data dalam Python yang mewakili bilangan dengan bagian pecahan. Mereka dapat memiliki banyak angka setelah koma desimal. Misalnya, 3.14 adalah sebuah float karena memiliki bagian pecahan, sedangkan 5 adalah sebuah integer karena tidak memiliki bagian pecahan."
   ]
  },
  {
   "cell_type": "code",
   "execution_count": 2,
   "metadata": {},
   "outputs": [
    {
     "name": "stdout",
     "output_type": "stream",
     "text": [
      "3.141592653589793\n",
      "<class 'float'>\n"
     ]
    }
   ],
   "source": [
    "nearly_pi = 3.141592653589793238462643383279502884197169399375105820974944\n",
    "print(nearly_pi)\n",
    "print(type(nearly_pi))"
   ]
  },
  {
   "cell_type": "markdown",
   "metadata": {},
   "source": [
    "Kita juga bisa menentukan sebuah float dengan pecahan. Misalnya, kita bisa menggunakan pecahan seperti 3/2 atau 1/3 untuk menentukan nilai float. Python akan menangani konversi dari pecahan ke float secara otomatis."
   ]
  },
  {
   "cell_type": "code",
   "execution_count": 3,
   "metadata": {},
   "outputs": [
    {
     "name": "stdout",
     "output_type": "stream",
     "text": [
      "3.142857142857143\n",
      "<class 'float'>\n"
     ]
    }
   ],
   "source": [
    "almost_pi = 22/7\n",
    "print(almost_pi)\n",
    "print(type(almost_pi))"
   ]
  },
  {
   "cell_type": "markdown",
   "metadata": {},
   "source": [
    "Salah satu fungsi yang sangat berguna untuk pecahan adalah fungsi round(). Fungsi ini memungkinkan Anda untuk membulatkan sebuah angka menjadi sejumlah titik desimal tertentu yang ditentukan.\n",
    "\n",
    "Misalnya, jika Anda memiliki angka float seperti 3.14159 dan Anda ingin membulatkannya menjadi dua angka desimal, Anda dapat menggunakan fungsi round() seperti ini: round(3.14159, 2). Hasilnya akan menjadi 3.14."
   ]
  },
  {
   "cell_type": "code",
   "execution_count": 4,
   "metadata": {},
   "outputs": [
    {
     "name": "stdout",
     "output_type": "stream",
     "text": [
      "3.14286\n",
      "<class 'float'>\n"
     ]
    }
   ],
   "source": [
    "# Round to 5 decimal places\n",
    "rounded_pi = round(almost_pi, 5)\n",
    "print(rounded_pi)\n",
    "print(type(rounded_pi))"
   ]
  },
  {
   "cell_type": "markdown",
   "metadata": {},
   "source": [
    "Ketika Anda menulis sebuah angka dengan titik desimal, Python akan mengenali angka tersebut sebagai tipe data float.\n",
    "\n",
    "Misalnya, 1. (atau 1.0, 1.00, dan sebagainya) akan dikenali sebagai float. Hal ini terjadi, meskipun secara teknis angka-angka ini tidak memiliki bagian pecahan!"
   ]
  },
  {
   "cell_type": "code",
   "execution_count": 5,
   "metadata": {},
   "outputs": [
    {
     "name": "stdout",
     "output_type": "stream",
     "text": [
      "1.0\n",
      "<class 'float'>\n"
     ]
    }
   ],
   "source": [
    "y_float = 1.\n",
    "print(y_float)\n",
    "print(type(y_float))"
   ]
  },
  {
   "cell_type": "markdown",
   "metadata": {},
   "source": [
    "### Booleans"
   ]
  },
  {
   "cell_type": "markdown",
   "metadata": {},
   "source": [
    "Booleans mewakili salah satu dari dua nilai: True atau False. Pada sel kode di bawah ini, z_one diatur sebagai boolean dengan nilai True."
   ]
  },
  {
   "cell_type": "code",
   "execution_count": 6,
   "metadata": {},
   "outputs": [
    {
     "name": "stdout",
     "output_type": "stream",
     "text": [
      "True\n",
      "<class 'bool'>\n"
     ]
    }
   ],
   "source": [
    "z_one = True\n",
    "print(z_one)\n",
    "print(type(z_one))"
   ]
  },
  {
   "cell_type": "markdown",
   "metadata": {},
   "source": [
    "Berikut adalah kode untuk menetapkan variabel z_two dengan nilai boolean False"
   ]
  },
  {
   "cell_type": "code",
   "execution_count": 7,
   "metadata": {},
   "outputs": [
    {
     "name": "stdout",
     "output_type": "stream",
     "text": [
      "False\n",
      "<class 'bool'>\n"
     ]
    }
   ],
   "source": [
    "z_two = False\n",
    "print(z_two)\n",
    "print(type(z_two))"
   ]
  },
  {
   "cell_type": "markdown",
   "metadata": {},
   "source": [
    "Kode 1 < 2 adalah sebuah ekspresi perbandingan dalam Python yang menguji apakah angka 1 lebih kecil dari angka 2. Karena pernyataan ini benar dalam matematika, hasil ekspresi tersebut adalah True.\n",
    "\n",
    "Selanjutnya, kita menyimpan hasil ekspresi ini ke dalam variabel z_three. Ini berarti kita mengaitkan nilai True ke dalam variabel z_three.\n",
    "\n",
    "Jadi, ketika kita mencetak nilai z_three, kita akan mendapatkan output True, karena itu adalah nilai yang disimpan dalam variabel z_three."
   ]
  },
  {
   "cell_type": "code",
   "execution_count": 8,
   "metadata": {},
   "outputs": [
    {
     "name": "stdout",
     "output_type": "stream",
     "text": [
      "True\n",
      "<class 'bool'>\n"
     ]
    }
   ],
   "source": [
    "z_three = (1 < 2)\n",
    "print(z_three)\n",
    "print(type(z_three))"
   ]
  },
  {
   "cell_type": "markdown",
   "metadata": {},
   "source": [
    "Dalam kode 5 < 3, kita mencoba untuk membandingkan apakah angka 5 lebih kecil dari angka 3. Namun, ini adalah pernyataan yang salah. Oleh karena itu, nilai yang disimpan dalam variabel z_four adalah False. Saat kita mencetak nilai z_four, kita akan melihat output False. Intinya, tipe data boolean (False) digunakan untuk merepresentasikan nilai kebenaran dari ekspresi matematika."
   ]
  },
  {
   "cell_type": "code",
   "execution_count": 9,
   "metadata": {},
   "outputs": [
    {
     "name": "stdout",
     "output_type": "stream",
     "text": [
      "False\n",
      "<class 'bool'>\n"
     ]
    }
   ],
   "source": [
    "z_four = (5 < 3)\n",
    "print(z_four)\n",
    "print(type(z_four))"
   ]
  },
  {
   "cell_type": "markdown",
   "metadata": {},
   "source": [
    "Anda bisa mengubah nilai boolean dari True menjadi False, atau sebaliknya, dengan menggunakan operator not.\n",
    "\n",
    "Contohnya, not True akan menghasilkan nilai False, dan not False akan menghasilkan nilai True."
   ]
  },
  {
   "cell_type": "code",
   "execution_count": 10,
   "metadata": {},
   "outputs": [
    {
     "name": "stdout",
     "output_type": "stream",
     "text": [
      "True\n",
      "<class 'bool'>\n"
     ]
    }
   ],
   "source": [
    "z_five = not z_four\n",
    "print(z_five)\n",
    "print(type(z_five))"
   ]
  },
  {
   "cell_type": "markdown",
   "metadata": {},
   "source": [
    "### Strings"
   ]
  },
  {
   "cell_type": "markdown",
   "metadata": {},
   "source": [
    "Tipe data string adalah kumpulan karakter (seperti huruf abjad, tanda baca, digit numerik, atau simbol) yang terdapat di dalam tanda kutip. String umumnya digunakan untuk merepresentasikan teks atau data berbasis teks dalam pemrograman.\n",
    "\n",
    "String dapat dibuat menggunakan tanda kutip tunggal (' ') atau tanda kutip ganda (\" \"). Dalam Python, keduanya sama-sama valid dan dapat digunakan untuk membuat string. Misalnya, 'Hello' dan \"Hello\" akan menghasilkan string yang sama, yaitu \"Hello\"."
   ]
  },
  {
   "cell_type": "code",
   "execution_count": 11,
   "metadata": {},
   "outputs": [
    {
     "name": "stdout",
     "output_type": "stream",
     "text": [
      "Hello, Python!\n",
      "<class 'str'>\n"
     ]
    }
   ],
   "source": [
    "w = \"Hello, Python!\"\n",
    "print(w)\n",
    "print(type(w))"
   ]
  },
  {
   "cell_type": "markdown",
   "metadata": {},
   "source": [
    "Anda dapat mengambil panjang (jumlah karakter) dari sebuah string dengan menggunakan fungsi len(). Misalnya, string \"Hello, Python!\" memiliki panjang 14, karena terdiri dari 14 karakter, termasuk spasi, koma, dan tanda seru. Penting untuk dicatat bahwa tanda kutip (baik tunggal maupun ganda) tidak dihitung saat menghitung panjang string."
   ]
  },
  {
   "cell_type": "code",
   "execution_count": 12,
   "metadata": {},
   "outputs": [
    {
     "name": "stdout",
     "output_type": "stream",
     "text": [
      "14\n"
     ]
    }
   ],
   "source": [
    "print(len(w))"
   ]
  },
  {
   "cell_type": "markdown",
   "metadata": {},
   "source": [
    "Ada jenis string khusus yang disebut sebagai string kosong (empty string), yang memiliki panjang nol. Ini berarti bahwa tidak ada karakter yang ada di dalam string tersebut."
   ]
  },
  {
   "cell_type": "code",
   "execution_count": 13,
   "metadata": {},
   "outputs": [
    {
     "name": "stdout",
     "output_type": "stream",
     "text": [
      "<class 'str'>\n",
      "0\n"
     ]
    }
   ],
   "source": [
    "shortest_string = \"\"\n",
    "print(type(shortest_string))\n",
    "print(len(shortest_string))"
   ]
  },
  {
   "cell_type": "markdown",
   "metadata": {},
   "source": [
    "Ketika Anda menempatkan sebuah angka di dalam tanda kutip, Python akan menganggapnya sebagai string, bukan sebagai nilai numerik."
   ]
  },
  {
   "cell_type": "code",
   "execution_count": 14,
   "metadata": {},
   "outputs": [
    {
     "name": "stdout",
     "output_type": "stream",
     "text": [
      "1.12321\n",
      "<class 'str'>\n"
     ]
    }
   ],
   "source": [
    "my_number = \"1.12321\"\n",
    "print(my_number)\n",
    "print(type(my_number))"
   ]
  },
  {
   "cell_type": "markdown",
   "metadata": {},
   "source": [
    "Anda dapat menggunakan fungsi float() untuk mengonversi string menjadi nilai float jika string tersebut dapat dikonversi ke dalam bentuk float.\n",
    "\n",
    "Misalnya, jika Anda memiliki string \"10.43430\" atau \"3\", keduanya dapat dengan mudah dikonversi menjadi nilai float menggunakan fungsi float():\n",
    "\n"
   ]
  },
  {
   "cell_type": "code",
   "execution_count": 15,
   "metadata": {},
   "outputs": [
    {
     "name": "stdout",
     "output_type": "stream",
     "text": [
      "1.12321\n",
      "<class 'float'>\n"
     ]
    }
   ],
   "source": [
    "also_my_number = float(my_number)\n",
    "print(also_my_number)\n",
    "print(type(also_my_number))"
   ]
  },
  {
   "cell_type": "markdown",
   "metadata": {},
   "source": [
    " Sama halnya seperti Anda dapat menambahkan dua angka (float atau integer) menggunakan operator penambahan (+), Anda juga dapat menambahkan dua string menggunakan operator yang sama. Ini akan menghasilkan sebuah string yang lebih panjang yang menggabungkan dua string asli dengan cara menggabungkannya (concatenation)."
   ]
  },
  {
   "cell_type": "code",
   "execution_count": 16,
   "metadata": {},
   "outputs": [
    {
     "name": "stdout",
     "output_type": "stream",
     "text": [
      "abcdef\n",
      "<class 'str'>\n"
     ]
    }
   ],
   "source": [
    "new_string = \"abc\" + \"def\"\n",
    "print(new_string)\n",
    "print(type(new_string))"
   ]
  },
  {
   "cell_type": "markdown",
   "metadata": {},
   "source": [
    "Anda tidak dapat melakukan pengurangan atau pembagian dengan dua string, karena operasi tersebut tidak didefinisikan untuk tipe data string dalam Python.\n",
    "\n",
    "Namun, Anda dapat mengalikan sebuah string dengan sebuah integer. Hal ini akan menghasilkan string yang sama, digabungkan dengan dirinya sendiri sejumlah kali yang ditentukan oleh nilai integer tersebut.\n",
    "\n",
    "Misalnya, jika Anda memiliki string \"abc\" dan Anda mengalikannya dengan angka 3, Anda akan mendapatkan hasil \"abcabcabc\", yaitu string \"abc\" yang digabungkan dengan dirinya sendiri sebanyak tiga kali."
   ]
  },
  {
   "cell_type": "code",
   "execution_count": 17,
   "metadata": {},
   "outputs": [
    {
     "name": "stdout",
     "output_type": "stream",
     "text": [
      "abcabcabc\n",
      "<class 'str'>\n"
     ]
    }
   ],
   "source": [
    "newest_string = \"abc\" * 3\n",
    "print(newest_string)\n",
    "print(type(newest_string))"
   ]
  },
  {
   "cell_type": "code",
   "execution_count": 18,
   "metadata": {},
   "outputs": [
    {
     "ename": "TypeError",
     "evalue": "can't multiply sequence by non-int of type 'float'",
     "output_type": "error",
     "traceback": [
      "\u001b[1;31m---------------------------------------------------------------------------\u001b[0m",
      "\u001b[1;31mTypeError\u001b[0m                                 Traceback (most recent call last)",
      "Cell \u001b[1;32mIn[18], line 1\u001b[0m\n\u001b[1;32m----> 1\u001b[0m will_not_work \u001b[38;5;241m=\u001b[39m \u001b[38;5;124;43m\"\u001b[39;49m\u001b[38;5;124;43mabc\u001b[39;49m\u001b[38;5;124;43m\"\u001b[39;49m\u001b[43m \u001b[49m\u001b[38;5;241;43m*\u001b[39;49m\u001b[43m \u001b[49m\u001b[38;5;241;43m3.\u001b[39;49m\n",
      "\u001b[1;31mTypeError\u001b[0m: can't multiply sequence by non-int of type 'float'"
     ]
    }
   ],
   "source": [
    "will_not_work = \"abc\" * 3."
   ]
  },
  {
   "cell_type": "markdown",
   "metadata": {},
   "source": [
    "Anda mencoba untuk mengalikan sebuah string dengan sebuah bilangan pecahan (float), yaitu 3.0. Namun, di Python, Anda hanya dapat mengalikan sebuah string dengan sebuah bilangan bulat (integer).\n",
    "\n",
    "Ini karena Python tidak mendukung penggandaan string dengan bilangan pecahan. Jadi, Anda harus mengubah bilangan pecahan tersebut menjadi bilangan bulat terlebih dahulu sebelum mengalikan dengan string, jika itu adalah yang Anda inginkan. Misalnya, Anda bisa menggunakan int() untuk mengubah 3.0 menjadi 3, kemudian melakukan penggandaan string dengan bilangan bulat tersebut."
   ]
  },
  {
   "cell_type": "code",
   "execution_count": 19,
   "metadata": {},
   "outputs": [
    {
     "name": "stdout",
     "output_type": "stream",
     "text": [
      "abcabcabc\n"
     ]
    }
   ],
   "source": [
    "will_work = \"abc\" * 3\n",
    "print(will_work)"
   ]
  },
  {
   "cell_type": "markdown",
   "metadata": {},
   "source": [
    "Dalam kode di atas, kita mengalikan string \"abc\" dengan bilangan bulat 3. Ini menghasilkan string \"abc\" yang digabungkan dengan dirinya sendiri sebanyak tiga kali, seperti yang diharapkan."
   ]
  }
 ],
 "metadata": {
  "kernelspec": {
   "display_name": "Python 3",
   "language": "python",
   "name": "python3"
  },
  "language_info": {
   "codemirror_mode": {
    "name": "ipython",
    "version": 3
   },
   "file_extension": ".py",
   "mimetype": "text/x-python",
   "name": "python",
   "nbconvert_exporter": "python",
   "pygments_lexer": "ipython3",
   "version": "3.12.2"
  }
 },
 "nbformat": 4,
 "nbformat_minor": 2
}
