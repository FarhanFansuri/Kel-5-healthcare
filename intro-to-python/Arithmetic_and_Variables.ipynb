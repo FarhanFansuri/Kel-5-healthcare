{
 "cells": [
  {
   "cell_type": "code",
   "execution_count": null,
   "metadata": {},
   "outputs": [],
   "source": []
  },
  {
   "cell_type": "markdown",
   "metadata": {},
   "source": [
    "# Arithmetic and Variables"
   ]
  },
  {
   "cell_type": "markdown",
   "metadata": {},
   "source": [
    "Make calculations, and define and modify variables."
   ]
  },
  {
   "cell_type": "markdown",
   "metadata": {},
   "source": [
    "## Printing"
   ]
  },
  {
   "cell_type": "markdown",
   "metadata": {},
   "source": [
    "One of the simplest (and most important!) tasks you can ask a computer to do is to print a message."
   ]
  },
  {
   "cell_type": "code",
   "execution_count": null,
   "metadata": {},
   "outputs": [
    {
     "name": "stdout",
     "output_type": "stream",
     "text": [
      "Hello, world!\n"
     ]
    }
   ],
   "source": [
    "print(\"Hello, world!\")"
   ]
  },
  {
   "cell_type": "markdown",
   "metadata": {},
   "source": [
    "Kode di atas adalah contoh sederhana dari sebuah program Python yang mencetak teks \"Hello, world!\" ke layar. Dalam bahasa pemrograman, ini sering kali merupakan contoh pertama yang diajarkan kepada pemula. Ini adalah cara sederhana untuk memastikan bahwa instalasi Python Anda berfungsi dengan baik dan Anda dapat mulai menulis kode.\n",
    "\n",
    "Fungsi print() adalah fungsi bawaan Python yang digunakan untuk mencetak output ke terminal atau konsol. Di dalam tanda kurung, Anda bisa menuliskan apa pun yang ingin Anda cetak. Dalam contoh ini, kita mencetak string \"Hello, world!\". String tersebut dibungkus dalam tanda kutip ganda (\"), yang menandakan bahwa itu adalah teks yang harus dicetak. Jadi, ketika program dijalankan, teks \"Hello, world!\" akan ditampilkan di layar."
   ]
  },
  {
   "cell_type": "markdown",
   "metadata": {},
   "source": [
    "## Arithmetic"
   ]
  },
  {
   "cell_type": "markdown",
   "metadata": {},
   "source": [
    "We can also print the value of some arithmetic operation (such as addition, subtraction, multiplication, or division)."
   ]
  },
  {
   "cell_type": "code",
   "execution_count": null,
   "metadata": {},
   "outputs": [
    {
     "name": "stdout",
     "output_type": "stream",
     "text": [
      "3\n"
     ]
    }
   ],
   "source": [
    "print(1 + 2)"
   ]
  },
  {
   "cell_type": "markdown",
   "metadata": {},
   "source": [
    "Kode di atas adalah ekspresi sederhana dalam bahasa pemrograman Python. Ini menggambarkan operasi penjumlahan sederhana antara dua bilangan, yaitu 1 dan 2.\n",
    "\n",
    "* Operator + digunakan dalam ekspresi ini untuk menjumlahkan bilangan.\n",
    "* Angka 1 dan 2 ditambahkan bersama-sama menggunakan operator +.\n",
    "* Hasil dari penjumlahan, yaitu 3, akan dicetak ke layar karena kode tersebut menggunakan fungsi print()."
   ]
  },
  {
   "cell_type": "code",
   "execution_count": null,
   "metadata": {},
   "outputs": [
    {
     "name": "stdout",
     "output_type": "stream",
     "text": [
      "4\n"
     ]
    }
   ],
   "source": [
    "print(9 - 5)"
   ]
  },
  {
   "cell_type": "markdown",
   "metadata": {},
   "source": [
    "Kode di atas adalah ekspresi sederhana dalam bahasa pemrograman Python. Ini menggambarkan operasi pengurangan sederhana antara dua bilangan, yaitu 9 dan 5.\n",
    "\n",
    "* Operator - digunakan dalam ekspresi ini untuk melakukan pengurangan antara bilangan 9 dan 5.\n",
    "* Angka 9 dikurangi dengan angka 5 menggunakan operator -.\n",
    "* Hasil dari operasi pengurangan, yaitu 4, akan dicetak ke layar karena kode tersebut menggunakan fungsi print()."
   ]
  },
  {
   "cell_type": "code",
   "execution_count": null,
   "metadata": {},
   "outputs": [
    {
     "name": "stdout",
     "output_type": "stream",
     "text": [
      "196.0\n"
     ]
    }
   ],
   "source": [
    "print(((1 + 3) * (9 - 2) / 2) ** 2)"
   ]
  },
  {
   "cell_type": "markdown",
   "metadata": {},
   "source": [
    "Kode di atas adalah ekspresi matematika yang lebih kompleks dalam bahasa pemrograman Python. Ini melibatkan beberapa operasi matematika dasar seperti penjumlahan, pengurangan, perkalian, pembagian, dan pemangkatan.\n",
    "\n",
    "1. Pertama-tama, ekspresi di dalam tanda kurung terdalam (1 + 3) dievaluasi. Ini menghasilkan nilai 4.\n",
    "2. Kemudian, ekspresi di dalam tanda kurung berikutnya (9 - 2) dievaluasi. Ini menghasilkan nilai 7.\n",
    "3. Selanjutnya, hasil dari (1 + 3) dan (9 - 2) dikalikan bersama-sama, yaitu 4 dikalikan dengan 7, menghasilkan nilai 28.\n",
    "4. Hasil dari perkalian tersebut kemudian dibagi dengan 2, menghasilkan nilai 14.0 (hasil dari pembagian float dalam Python).\n",
    "5. Nilai 14.0 tersebut kemudian dipangkatkan dengan 2 menggunakan operator **, menghasilkan nilai 196.0.\n",
    "6. Akhirnya, nilai 196.0 dicetak ke layar menggunakan fungsi print()."
   ]
  },
  {
   "cell_type": "markdown",
   "metadata": {},
   "source": [
    "## Comments"
   ]
  },
  {
   "cell_type": "markdown",
   "metadata": {},
   "source": [
    "We use comments to annotate what code is doing. They help other people to understand your code, and they can also be helpful if you haven't looked at your own code in a while. So far, the code that we have written is very short, but annotations become more important when you have w"
   ]
  },
  {
   "cell_type": "code",
   "execution_count": null,
   "metadata": {},
   "outputs": [
    {
     "name": "stdout",
     "output_type": "stream",
     "text": [
      "6\n"
     ]
    }
   ],
   "source": [
    "# Multiply 3 by 2\n",
    "print(3 * 2)"
   ]
  },
  {
   "cell_type": "markdown",
   "metadata": {},
   "source": [
    "Komentar # Multiply 3 by 2 di atas baris kode menjelaskan tujuan dari perhitungan yang dilakukan. Komentar ini tidak akan dieksekusi oleh Python dan hanya berfungsi sebagai penjelasan untuk membantu pembaca memahami kode.\n",
    "\n",
    "Kemudian, kode print(3 * 2) akan mengalikan angka 3 dengan angka 2 dan mencetak hasilnya ke layar. Dalam hal ini, hasilnya adalah 6. Sehingga, ketika program dijalankan, output yang akan ditampilkan adalah: 6"
   ]
  },
  {
   "cell_type": "code",
   "execution_count": null,
   "metadata": {},
   "outputs": [
    {
     "ename": "SyntaxError",
     "evalue": "invalid syntax (3750420471.py, line 1)",
     "output_type": "error",
     "traceback": [
      "\u001b[1;36m  Cell \u001b[1;32mIn[5], line 1\u001b[1;36m\u001b[0m\n",
      "\u001b[1;33m    Multiply 3 by 2\u001b[0m\n",
      "\u001b[1;37m             ^\u001b[0m\n",
      "\u001b[1;31mSyntaxError\u001b[0m\u001b[1;31m:\u001b[0m invalid syntax\n"
     ]
    }
   ],
   "source": [
    "Multiply 3 by 2"
   ]
  },
  {
   "cell_type": "markdown",
   "metadata": {},
   "source": [
    "Ini adalah cara yang sederhana untuk menampilkan instruksi tanpa menjalankan atau menampilkan output kode Python."
   ]
  },
  {
   "cell_type": "markdown",
   "metadata": {},
   "source": [
    "## Variables"
   ]
  },
  {
   "cell_type": "markdown",
   "metadata": {},
   "source": [
    "So far, you have used code to make a calculation and print the result, and the result isn't saved anywhere. However, you can imagine that you might want to save the result to work with it later. For this, you'll need to use variables."
   ]
  },
  {
   "cell_type": "markdown",
   "metadata": {},
   "source": [
    "### Creating variables"
   ]
  },
  {
   "cell_type": "markdown",
   "metadata": {},
   "source": [
    "The next code cell creates a variable named test_var and assigns it the value that we get when we add 5 to 4."
   ]
  },
  {
   "cell_type": "code",
   "execution_count": null,
   "metadata": {},
   "outputs": [
    {
     "name": "stdout",
     "output_type": "stream",
     "text": [
      "9\n"
     ]
    }
   ],
   "source": [
    "# Create a variable called test_var and give it a value of 4+5\n",
    "test_var = 4 + 5\n",
    "\n",
    "# Print the value of test_var\n",
    "print(test_var)"
   ]
  },
  {
   "cell_type": "markdown",
   "metadata": {},
   "source": [
    "Komentar # Create a variable called test_var and give it a value of 4+5 menjelaskan tujuan dari baris pertama kode. Ini mengatur variabel test_var menjadi hasil dari penjumlahan 4 dan 5.\n",
    "\n",
    "Baris kedua, test_var = 4 + 5, menginisialisasi variabel test_var dengan nilai 4 + 5, yaitu 9.\n",
    "\n",
    "Baris ketiga, print(test_var), mencetak nilai variabel test_var ke layar. Dalam hal ini, output yang akan ditampilkan adalah: 9"
   ]
  },
  {
   "cell_type": "markdown",
   "metadata": {},
   "source": [
    "### Manipulating variables"
   ]
  },
  {
   "cell_type": "markdown",
   "metadata": {},
   "source": [
    "You can always change the value assigned to a variable by overriding the previous value."
   ]
  },
  {
   "cell_type": "code",
   "execution_count": null,
   "metadata": {},
   "outputs": [
    {
     "name": "stdout",
     "output_type": "stream",
     "text": [
      "3\n",
      "100\n"
     ]
    }
   ],
   "source": [
    "# Set the value of a new variable to 3\n",
    "my_var = 3\n",
    "\n",
    "# Print the value assigned to my_var\n",
    "print(my_var)\n",
    "\n",
    "# Change the value of the variable to 100\n",
    "my_var = 100\n",
    "\n",
    "# Print the new value assigned to my_var\n",
    "print(my_var)"
   ]
  },
  {
   "cell_type": "markdown",
   "metadata": {},
   "source": [
    "Komentar # Set the value of a new variable to 3 menjelaskan tujuan dari baris pertama kode. Ini mengatur variabel my_var menjadi 3.\n",
    "\n",
    "Baris kedua, my_var = 3, menginisialisasi variabel my_var dengan nilai 3.\n",
    "\n",
    "Kemudian, dengan komentar # Print the value assigned to my_var kita mencetak nilai variabel my_var ke layar, yang pada saat ini adalah 3.\n",
    "\n",
    "Setelah itu, kita mengubah nilai variabel my_var menjadi 100 dengan my_var = 100.\n",
    "\n",
    "Terakhir, kita mencetak nilai variabel my_var yang baru, yaitu 100.\n",
    "\n",
    "Output yang akan ditampilkan adalah:\n",
    "3\n",
    "100"
   ]
  },
  {
   "cell_type": "code",
   "execution_count": null,
   "metadata": {},
   "outputs": [
    {
     "name": "stdout",
     "output_type": "stream",
     "text": [
      "100\n",
      "9\n"
     ]
    }
   ],
   "source": [
    "print(my_var)\n",
    "print(test_var)"
   ]
  },
  {
   "cell_type": "code",
   "execution_count": null,
   "metadata": {},
   "outputs": [
    {
     "name": "stdout",
     "output_type": "stream",
     "text": [
      "103\n"
     ]
    }
   ],
   "source": [
    "# Increase the value by 3\n",
    "my_var = my_var + 3\n",
    "\n",
    "# Print the value assigned to my_var\n",
    "print(my_var)"
   ]
  },
  {
   "cell_type": "markdown",
   "metadata": {},
   "source": [
    "Komentar # Increase the value by 3 menjelaskan bahwa kita akan menambahkan nilai variabel my_var sebesar 3.\n",
    "\n",
    "Kemudian, kita menetapkan nilai variabel my_var menjadi nilai sebelumnya ditambah 3 dengan my_var = my_var + 3.\n",
    "\n",
    "Terakhir, kita mencetak nilai variabel my_var yang baru dengan print(my_var).\n",
    "\n",
    "Output yang akan ditampilkan adalah: 3"
   ]
  },
  {
   "cell_type": "markdown",
   "metadata": {},
   "source": [
    "### Using multiple variables"
   ]
  },
  {
   "cell_type": "markdown",
   "metadata": {},
   "source": [
    "It's common for code to use multiple variables. This is especially useful when we have to do a long calculation with multiple inputs."
   ]
  },
  {
   "cell_type": "code",
   "execution_count": null,
   "metadata": {},
   "outputs": [
    {
     "name": "stdout",
     "output_type": "stream",
     "text": [
      "126144000\n"
     ]
    }
   ],
   "source": [
    "# Create variables\n",
    "num_years = 4\n",
    "days_per_year = 365 \n",
    "hours_per_day = 24\n",
    "mins_per_hour = 60\n",
    "secs_per_min = 60\n",
    "\n",
    "# Calculate number of seconds in four years\n",
    "total_secs = secs_per_min * mins_per_hour * hours_per_day * days_per_year * num_years\n",
    "print(total_secs)"
   ]
  },
  {
   "cell_type": "markdown",
   "metadata": {},
   "source": [
    "Komentar # Create variables menjelaskan bahwa kita akan membuat beberapa variabel yang merepresentasikan jumlah tahun, hari per tahun, jam per hari, menit per jam, dan detik per menit.\n",
    "\n",
    "Kemudian, kita menghitung total detik dalam empat tahun dengan mengalikan semua faktor yang diperlukan: jumlah detik dalam satu menit, jumlah menit dalam satu jam, jumlah jam dalam satu hari, jumlah hari dalam satu tahun, dan jumlah tahun.\n",
    "\n",
    "Terakhir, kita mencetak total detik yang dihitung dengan print(total_secs).\n",
    "\n",
    "Output yang akan ditampilkan adalah: 126144000\n"
   ]
  },
  {
   "cell_type": "code",
   "execution_count": null,
   "metadata": {},
   "outputs": [
    {
     "name": "stdout",
     "output_type": "stream",
     "text": [
      "126230400.0\n"
     ]
    }
   ],
   "source": [
    "# Update to include leap years\n",
    "days_per_year = 365.25\n",
    "\n",
    "# Calculate number of seconds in four years\n",
    "total_secs = secs_per_min * mins_per_hour * hours_per_day * days_per_year * num_years\n",
    "print(total_secs)"
   ]
  },
  {
   "cell_type": "markdown",
   "metadata": {},
   "source": [
    "Komentar # Update to include leap years menjelaskan bahwa kita akan memperbarui nilai variabel days_per_year untuk mencakup tahun kabisat.\n",
    "\n",
    "Variabel days_per_year diubah menjadi 365.25 untuk memperhitungkan rata-rata jumlah hari dalam setahun, termasuk tahun kabisat.\n",
    "\n",
    "Kemudian, kita menghitung kembali total detik dalam empat tahun dengan menggunakan nilai yang baru untuk days_per_year.\n",
    "\n",
    "Terakhir, kita mencetak total detik yang dihitung dengan print(total_secs).\n",
    "\n",
    "Output yang akan ditampilkan adalah: 126230400.0"
   ]
  },
  {
   "cell_type": "markdown",
   "metadata": {},
   "source": [
    "### Debugging"
   ]
  },
  {
   "cell_type": "markdown",
   "metadata": {},
   "source": [
    "One common error when working with variables is to accidentally introduce typos. For instance, if we spell hours_per_day as hours_per_dy, Python will error with message NameError: name 'hours_per_dy' is "
   ]
  },
  {
   "cell_type": "code",
   "execution_count": null,
   "metadata": {},
   "outputs": [
    {
     "ename": "NameError",
     "evalue": "name 'hours_per_dy' is not defined",
     "output_type": "error",
     "traceback": [
      "\u001b[1;31m---------------------------------------------------------------------------\u001b[0m\n",
      "\u001b[1;31mNameError\u001b[0m                                 Traceback (most recent call last)\n",
      "Cell \u001b[1;32mIn[12], line 1\u001b[0m\n",
      "\u001b[1;32m----> 1\u001b[0m \u001b[38;5;28mprint\u001b[39m(\u001b[43mhours_per_dy\u001b[49m)\n",
      "\n",
      "\u001b[1;31mNameError\u001b[0m: name 'hours_per_dy' is not defined"
     ]
    }
   ],
   "source": [
    "print(hours_per_dy)"
   ]
  },
  {
   "cell_type": "markdown",
   "metadata": {},
   "source": [
    "Mencoba mencetak variabel hours_per_dy, namun variabel tersebut tidak didefinisikan dalam kode yang diberikan. Mungkin Anda ingin mencetak variabel hours_per_day. Jika itu yang dimaksud, dapat menambahkan kode berikut:\n",
    "\n",
    "python\n",
    "Copy code\n",
    "print(hours_per_day)\n",
    "Ini akan mencetak jumlah jam dalam sehari ke layar. Jika hours_per_dy adalah variabel yang ingin cetak, pastikan mendefinisikannya sebelum mencetaknya."
   ]
  },
  {
   "cell_type": "code",
   "execution_count": null,
   "metadata": {},
   "outputs": [
    {
     "name": "stdout",
     "output_type": "stream",
     "text": [
      "24\n"
     ]
    }
   ],
   "source": [
    "print(hours_per_day)"
   ]
  },
  {
   "cell_type": "markdown",
   "metadata": {},
   "source": [
    "Ini akan mencetak jumlah jam dalam sehari ke layar. Jika variabel hours_per_day telah didefinisikan sebelumnya, maka nilai yang dihasilkan akan ditampilkan."
   ]
  }
 ],
 "metadata": {
  "language_info": {
   "name": "python"
  }
 },
 "nbformat": 4,
 "nbformat_minor": 2
}
