{
  "nbformat": 4,
  "nbformat_minor": 0,
  "metadata": {
    "colab": {
      "provenance": [],
      "authorship_tag": "ABX9TyOqtPvXx7sqqngCNv2bhtdz",
      "include_colab_link": true
    },
    "kernelspec": {
      "name": "python3",
      "display_name": "Python 3"
    },
    "language_info": {
      "name": "python"
    }
  },
  "cells": [
    {
      "cell_type": "markdown",
      "metadata": {
        "id": "view-in-github",
        "colab_type": "text"
      },
      "source": [
        "<a href=\"https://colab.research.google.com/github/FarhanFansuri/Kel-5-healthcare/blob/main/Conditions_and_Conditional_Statements.ipynb\" target=\"_parent\"><img src=\"https://colab.research.google.com/assets/colab-badge.svg\" alt=\"Open In Colab\"/></a>"
      ]
    },
    {
      "cell_type": "markdown",
      "source": [
        "## **Conditions and Conditional Statements**\n",
        "\n",
        "# **Conditions**\n"
      ],
      "metadata": {
        "id": "o6yWiptSSiH4"
      }
    },
    {
      "cell_type": "code",
      "source": [
        "Print(2 > 3)"
      ],
      "metadata": {
        "id": "yDogTFhSSxgY"
      },
      "execution_count": null,
      "outputs": []
    },
    {
      "cell_type": "markdown",
      "source": [
        "Kode print(2 > 3) merupakan pernyataan yang mengevaluasi apakah angka 2 lebih besar dari angka 3. Dalam bahasa pemrograman Python, operator > digunakan untuk memeriksa apakah nilai di sebelah kiri lebih besar dari nilai di sebelah kanan.\n",
        "\n",
        "Dalam kasus ini, karena 2 tidak lebih besar dari 3, hasil evaluasi adalah False. Jadi, ketika kode dieksekusi, ia akan mencetak False.\n",
        "\n",
        "Ini adalah contoh penggunaan operator perbandingan dalam Python untuk mengevaluasi ekspresi logika. Dengan operator perbandingan, Anda dapat memeriksa hubungan antara dua nilai dan mendapatkan hasil dalam bentuk nilai boolean, yaitu True atau False."
      ],
      "metadata": {
        "id": "vRSBTt2UTe4f"
      }
    },
    {
      "cell_type": "code",
      "source": [
        "var_one = 1\n",
        "var_two = 2\n",
        "\n",
        "print(var_one < 1)\n",
        "print(var_two >= var_one)"
      ],
      "metadata": {
        "colab": {
          "base_uri": "https://localhost:8080/"
        },
        "id": "Pyid6coRT6pJ",
        "outputId": "ec094eac-d06c-4bc6-fd71-70ccbaee5f1f"
      },
      "execution_count": 7,
      "outputs": [
        {
          "output_type": "stream",
          "name": "stdout",
          "text": [
            "False\n",
            "True\n"
          ]
        }
      ]
    },
    {
      "cell_type": "markdown",
      "source": [
        "\n",
        "Pada kode tersebut, terdapat dua variabel, var_one yang bernilai 1 dan var_two yang bernilai 2. Kemudian, dilakukan dua pernyataan pencetakan:\n",
        "1. print(var_one < 1): Pernyataan ini akan\n",
        "mengevaluasi apakah nilai dari var_one kurang dari 1. Karena nilai var_one adalah 1 dan 1 tidak kurang dari 1, hasilnya adalah False.\n",
        "2. print(var_two >= var_one): Pernyataan ini akan mengevaluasi apakah nilai dari var_two lebih besar dari atau sama dengan nilai var_one. Karena var_two bernilai 2 dan lebih besar dari var_one yang bernilai 1, hasilnya adalah True.\n",
        "\n",
        "\n",
        "\n",
        "\n"
      ],
      "metadata": {
        "id": "jWOMrYdNURNN"
      }
    },
    {
      "cell_type": "markdown",
      "source": [],
      "metadata": {
        "id": "7BMaCy7tWf0f"
      }
    },
    {
      "cell_type": "markdown",
      "source": [
        "# **Conditional Statements**\n",
        "\n",
        "### **\"if\" Statements**"
      ],
      "metadata": {
        "id": "kdjm93QBWf8F"
      }
    },
    {
      "cell_type": "code",
      "source": [
        "def evaluate_temp(temp):\n",
        "    # Set an initial message\n",
        "    message = \"Normal temperature.\"\n",
        "    # Update value of message only if temperature greater than 38\n",
        "    if temp > 38:\n",
        "        message = \"Fever!\"\n",
        "    return message"
      ],
      "metadata": {
        "id": "pEYBSShRVhKk"
      },
      "execution_count": 10,
      "outputs": []
    },
    {
      "cell_type": "code",
      "source": [
        "print(evaluate_temp(37))"
      ],
      "metadata": {
        "colab": {
          "base_uri": "https://localhost:8080/"
        },
        "id": "2VyNHmBMV70P",
        "outputId": "4da4f90e-25e0-4e4d-cc44-78b2d3769391"
      },
      "execution_count": 11,
      "outputs": [
        {
          "output_type": "stream",
          "name": "stdout",
          "text": [
            "Normal temperature.\n"
          ]
        }
      ]
    },
    {
      "cell_type": "code",
      "source": [
        "print(evaluate_temp(39))"
      ],
      "metadata": {
        "colab": {
          "base_uri": "https://localhost:8080/"
        },
        "id": "FhSlytpzWAwN",
        "outputId": "2f73a6ac-bcbb-450d-b3b5-ca14010ccbdf"
      },
      "execution_count": 12,
      "outputs": [
        {
          "output_type": "stream",
          "name": "stdout",
          "text": [
            "Fever!\n"
          ]
        }
      ]
    },
    {
      "cell_type": "markdown",
      "source": [
        "Pernyataan if digunakan dalam fungsi evaluate_temp(temp) untuk memeriksa apakah suhu (temp) melebihi 38. Jika iya, pesan \"Fever!\" akan ditetapkan ke dalam variabel message, jika tidak, variabel message akan tetap \"Normal temperature.\". Kemudian, nilai message dikembalikan oleh fungsi. Dengan demikian, kita dapat memberikan respons yang sesuai terhadap suhu yang dievaluasi."
      ],
      "metadata": {
        "id": "jI_0YikAW-TL"
      }
    },
    {
      "cell_type": "markdown",
      "source": [
        "### **\"if ... else\" statements**"
      ],
      "metadata": {
        "id": "iiqvj8tBXbdr"
      }
    },
    {
      "cell_type": "markdown",
      "source": [],
      "metadata": {
        "id": "fFHW2zogWCdp"
      }
    },
    {
      "cell_type": "code",
      "source": [
        "def evaluate_temp_with_else(temp):\n",
        "    if temp > 38:\n",
        "        message = \"Fever!\"\n",
        "    else:\n",
        "        message = \"Normal temperature.\"\n",
        "    return message"
      ],
      "metadata": {
        "id": "Cu4VDewjXdhi"
      },
      "execution_count": 14,
      "outputs": []
    },
    {
      "cell_type": "code",
      "source": [
        "print(evaluate_temp_with_else(37))"
      ],
      "metadata": {
        "colab": {
          "base_uri": "https://localhost:8080/"
        },
        "id": "s7b7xzoPXn7x",
        "outputId": "1b6eb7db-1489-431b-a0ad-64da72bd1a4a"
      },
      "execution_count": 15,
      "outputs": [
        {
          "output_type": "stream",
          "name": "stdout",
          "text": [
            "Normal temperature.\n"
          ]
        }
      ]
    },
    {
      "cell_type": "markdown",
      "source": [
        "Pernyataan if-else digunakan dalam fungsi evaluate_temp_with_else(temp) untuk memberikan respons yang berbeda terhadap nilai suhu yang dievaluasi.\n",
        "1. Pada awalnya, pernyataan if digunakan untuk memeriksa apakah suhu (temp) lebih besar dari 38.\n",
        "2. Jika kondisi pada pernyataan if terpenuhi (artinya suhu lebih besar dari 38), blok kode di dalamnya akan dijalankan. Dalam kasus ini, variabel message ditetapkan sebagai \"Fever!\" yang menunjukkan bahwa suhu melebihi batas normal.\n",
        "3. Namun, jika kondisi pada pernyataan if tidak terpenuhi (artinya suhu kurang dari atau sama dengan 38), maka blok kode di dalam else akan dijalankan. Di sini, variabel message ditetapkan sebagai \"Normal temperature.\".\n",
        "4. Akhirnya, fungsi mengembalikan nilai message yang sudah diperbarui sesuai dengan kondisi yang diberikan."
      ],
      "metadata": {
        "id": "aOxjmeLMXr5f"
      }
    },
    {
      "cell_type": "markdown",
      "source": [
        "### **\"if ... elif ... else\" statements**"
      ],
      "metadata": {
        "id": "FGY0zObAYiX7"
      }
    },
    {
      "cell_type": "code",
      "source": [
        "def evaluate_temp_with_elif(temp):\n",
        "    if temp > 38:\n",
        "        message = \"Fever!\"\n",
        "    elif temp > 35:\n",
        "        message = \"Normal temperature.\"\n",
        "    else:\n",
        "        message = \"Low temperature.\"\n",
        "    return message\n",
        "\n",
        "evaluate_temp_with_elif(36)"
      ],
      "metadata": {
        "colab": {
          "base_uri": "https://localhost:8080/",
          "height": 35
        },
        "id": "aXWYDoHeYnrC",
        "outputId": "8648e2dd-da3f-43e4-d08f-11f0dbca7ca7"
      },
      "execution_count": 23,
      "outputs": [
        {
          "output_type": "execute_result",
          "data": {
            "text/plain": [
              "'Normal temperature.'"
            ],
            "application/vnd.google.colaboratory.intrinsic+json": {
              "type": "string"
            }
          },
          "metadata": {},
          "execution_count": 23
        }
      ]
    },
    {
      "cell_type": "code",
      "source": [
        "evaluate_temp_with_elif(34)"
      ],
      "metadata": {
        "colab": {
          "base_uri": "https://localhost:8080/",
          "height": 35
        },
        "id": "fdxcqL06Zb9J",
        "outputId": "2007e2f3-ec44-4931-b97d-da1ee2cd3c8a"
      },
      "execution_count": 22,
      "outputs": [
        {
          "output_type": "execute_result",
          "data": {
            "text/plain": [
              "'Low temperature.'"
            ],
            "application/vnd.google.colaboratory.intrinsic+json": {
              "type": "string"
            }
          },
          "metadata": {},
          "execution_count": 22
        }
      ]
    },
    {
      "cell_type": "markdown",
      "source": [
        "Dalam kode di atas, terdapat fungsi bernama evaluate_temp_with_elif(temp) yang menerima satu parameter, yaitu temp, yang mewakili suhu yang akan dievaluasi.\n",
        "1. Pertama, program memeriksa apakah suhu (temp) lebih dari 38 derajat. Jika iya, variabel message akan ditetapkan sebagai \"Fever!\", menunjukkan bahwa suhu tubuh sedang tinggi (demam).\n",
        "2. Jika kondisi pada langkah pertama tidak terpenuhi, maka program akan mengevaluasi kondisi berikutnya. Dalam hal ini, jika suhu lebih besar dari 35 derajat, variabel message akan ditetapkan sebagai \"Normal temperature.\", menandakan bahwa suhu tubuh berada dalam kisaran normal.\n",
        "3. Jika kedua kondisi sebelumnya tidak terpenuhi, artinya suhu tidak lebih besar dari 38 dan tidak lebih besar dari 35, maka program akan menjalankan blok kode di dalam pernyataan else. Di sini, variabel message akan ditetapkan sebagai \"Low temperature.\", menandakan bahwa suhu tubuh terlalu rendah.\n",
        "4. Setelah variabel message ditetapkan sesuai dengan kondisi yang diberikan, fungsi akan mengembalikan nilai message.\n",
        "\n",
        "Dengan demikian, respons yang berbeda diberikan tergantung pada nilai suhu yang diberikan sebagai argumen saat memanggil fungsi evaluate_temp_with_elif()."
      ],
      "metadata": {
        "id": "FOrLsjrNZAB-"
      }
    },
    {
      "cell_type": "markdown",
      "source": [
        "## **Example - Calculations**"
      ],
      "metadata": {
        "id": "ba9LVD-baPRb"
      }
    },
    {
      "cell_type": "code",
      "source": [
        "def get_taxes(earnings):\n",
        "    if earnings < 12000:\n",
        "        tax_owed = .25 * earnings\n",
        "    else:\n",
        "        tax_owed = .30 * earnings\n",
        "    return tax_owed"
      ],
      "metadata": {
        "id": "J-hFZ8vhaSy-"
      },
      "execution_count": 25,
      "outputs": []
    },
    {
      "cell_type": "code",
      "source": [
        "ana_taxes = get_taxes(9000)\n",
        "bob_taxes = get_taxes(15000)\n",
        "\n",
        "print(ana_taxes)\n",
        "print(bob_taxes)"
      ],
      "metadata": {
        "colab": {
          "base_uri": "https://localhost:8080/"
        },
        "id": "A-GacjvhatHg",
        "outputId": "cfeaa1cb-0ca9-4e44-c58b-3b59c6eedc00"
      },
      "execution_count": 26,
      "outputs": [
        {
          "output_type": "stream",
          "name": "stdout",
          "text": [
            "2250.0\n",
            "4500.0\n"
          ]
        }
      ]
    },
    {
      "cell_type": "markdown",
      "source": [
        "Dalam kode di atas, terdapat fungsi get_taxes(earnings) yang menerima satu parameter, yaitu earnings, yang merupakan penghasilan seseorang.\n",
        "1. Pertama, fungsi tersebut memeriksa apakah penghasilan (earnings) kurang dari 12000. Jika iya, maka variabel tax_owed akan dihitung sebagai 25% dari penghasilan tersebut.\n",
        "2. Jika penghasilan melebihi atau sama dengan 12000, maka program akan menjalankan blok kode di dalam pernyataan else. Di sini, variabel tax_owed dihitung sebagai 30% dari penghasilan tersebut.\n",
        "3. Setelah nilai variabel tax_owed ditetapkan sesuai dengan kondisi yang diberikan, fungsi akan mengembalikan nilai tax_owed.\n",
        "4. Selanjutnya, fungsi get_taxes(earnings) dipanggil dua kali untuk menghitung pajak yang harus dibayar oleh dua orang yang berbeda, yaitu Ana dan Bob, dengan penghasilan masing-masing 9000 dan 15000.\n",
        "5. Hasil perhitungan pajak untuk Ana disimpan dalam variabel ana_taxes, sedangkan hasil perhitungan pajak untuk Bob disimpan dalam variabel bob_taxes.\n",
        "6. Terakhir, hasil perhitungan pajak untuk Ana dan Bob dicetak menggunakan perintah print().\n",
        "\n",
        "Dengan demikian, program menghitung jumlah pajak yang harus dibayar berdasarkan penghasilan yang diberikan dan mencetak hasilnya untuk Ana dan Bob. Ana akan memiliki pajak yang lebih rendah karena penghasilannya lebih rendah dari 12000, sedangkan Bob akan memiliki pajak yang lebih tinggi karena penghasilannya melebihi 12000."
      ],
      "metadata": {
        "id": "4DLm9uexbO7T"
      }
    },
    {
      "cell_type": "markdown",
      "source": [
        "## **Example - Multiple \"elif\" statements**"
      ],
      "metadata": {
        "id": "C2UZjtjybnSG"
      }
    },
    {
      "cell_type": "code",
      "source": [
        "def get_dose(weight):\n",
        "    # Dosage is 1.25 ml for anyone under 5.2 kg\n",
        "    if weight < 5.2:\n",
        "        dose = 1.25\n",
        "    elif weight < 7.9:\n",
        "        dose = 2.5\n",
        "    elif weight < 10.4:\n",
        "        dose = 3.75\n",
        "    elif weight < 15.9:\n",
        "        dose = 5\n",
        "    elif weight < 21.2:\n",
        "        dose = 7.5\n",
        "    # Dosage is 10 ml for anyone 21.2 kg or over\n",
        "    else:\n",
        "        dose = 10\n",
        "    return dose"
      ],
      "metadata": {
        "id": "5IOE60-Jb7L9"
      },
      "execution_count": 27,
      "outputs": []
    },
    {
      "cell_type": "code",
      "source": [
        "print(get_dose(12))"
      ],
      "metadata": {
        "colab": {
          "base_uri": "https://localhost:8080/"
        },
        "id": "ZUBnYUMHb998",
        "outputId": "231f7bd8-f9e6-4bff-8ea4-d9b616fe08a7"
      },
      "execution_count": 28,
      "outputs": [
        {
          "output_type": "stream",
          "name": "stdout",
          "text": [
            "5\n"
          ]
        }
      ]
    },
    {
      "cell_type": "markdown",
      "source": [
        "\n",
        "Dalam kode di atas, terdapat fungsi get_dose(weight) yang menerima satu parameter, yaitu weight, yang merupakan berat seseorang.\n",
        "1. Pertama, fungsi tersebut memeriksa apakah berat (weight) kurang dari 5.2 kg. Jika iya, maka variabel dose akan dihitung sebagai 1.25 ml.\n",
        "2. Jika berat kurang dari 7.9 kg, program akan menjalankan blok kode di dalam pernyataan elif. Di sini, variabel dose dihitung sebagai 2.5 ml.\n",
        "3. Jika berat kurang dari 10.4 kg, program akan menjalankan blok kode di dalam pernyataan elif. Di sini, variabel dose dihitung sebagai 3.75 ml.\n",
        "4. Proses ini akan dilanjutkan dengan memeriksa berat dalam rentang berbeda dan menghitung dosis yang sesuai berdasarkan berat tersebut.\n",
        "5. Jika berat melebihi atau sama dengan 21.2 kg, maka program akan menjalankan blok kode di dalam pernyataan else. Di sini, variabel dose dihitung sebagai 10 ml.\n",
        "6. Setelah nilai variabel dose ditetapkan sesuai dengan kondisi yang diberikan, fungsi akan mengembalikan nilai dose.\n",
        "7. Selanjutnya, fungsi get_dose(weight) dipanggil dengan argumen 12 untuk mendapatkan dosis yang sesuai berdasarkan berat tersebut.\n",
        "8. Hasil perhitungan dosis untuk berat 12 kg akan dicetak menggunakan perintah print()."
      ],
      "metadata": {
        "id": "6P3SSqM5cAPH"
      }
    },
    {
      "cell_type": "markdown",
      "source": [
        "*Edited by Imam Bari Setiawan*"
      ],
      "metadata": {
        "id": "zJAQ3UXcc61S"
      }
    }
  ]
}